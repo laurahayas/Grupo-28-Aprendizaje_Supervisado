{
  "cells": [
    {
      "cell_type": "markdown",
      "metadata": {
        "id": "R3hRvcMgw6at"
      },
      "source": [
        "# **DiploDatos Kaggle Competition**\n",
        "\n",
        "**Diplomatura en Ciencia de Datos, Aprendizaje Automático y sus Aplicaciones**\n",
        "\n",
        "**Aprendizaje Supervisado**\n",
        "\n",
        "**Grupo 28**<br>\n",
        "Docente: Laura Montes\n",
        "\n",
        "Integrantes:\n",
        "\n",
        "- Gustavo Alvarez Lupu<br>\n",
        "- Laura Hayas<br>\n",
        "- Maria Emilia Santacruz<br>\n",
        "- Nicolás Ambrosis"
      ]
    },
    {
      "cell_type": "code",
      "execution_count": null,
      "metadata": {
        "id": "zBYlVfMsw6au"
      },
      "outputs": [],
      "source": [
        "# Librerías\n",
        "import pandas as pd\n",
        "import numpy as np\n",
        "import matplotlib.pyplot as plt\n",
        "import missingno as msno\n",
        "\n",
        "\n",
        "# sklearn\n",
        "from sklearn.preprocessing import StandardScaler, LabelEncoder\n",
        "from sklearn.impute import SimpleImputer\n",
        "from sklearn.model_selection import train_test_split, GridSearchCV, StratifiedKFold\n",
        "from sklearn.metrics import accuracy_score, ConfusionMatrixDisplay, classification_report\n",
        "from sklearn.tree import DecisionTreeClassifier"
      ]
    },
    {
      "cell_type": "markdown",
      "source": [
        "# Trabajamos con los datos de entrenamiento"
      ],
      "metadata": {
        "id": "TfJgfAIj_pEW"
      }
    },
    {
      "cell_type": "code",
      "execution_count": null,
      "metadata": {
        "id": "OPgVUYJPw6au",
        "outputId": "201ff4f5-77f1-4a56-dd04-34dbf2caecb7"
      },
      "outputs": [
        {
          "data": {
            "text/html": [
              "<div>\n",
              "<style scoped>\n",
              "    .dataframe tbody tr th:only-of-type {\n",
              "        vertical-align: middle;\n",
              "    }\n",
              "\n",
              "    .dataframe tbody tr th {\n",
              "        vertical-align: top;\n",
              "    }\n",
              "\n",
              "    .dataframe thead th {\n",
              "        text-align: right;\n",
              "    }\n",
              "</style>\n",
              "<table border=\"1\" class=\"dataframe\">\n",
              "  <thead>\n",
              "    <tr style=\"text-align: right;\">\n",
              "      <th></th>\n",
              "      <th>PassengerId</th>\n",
              "      <th>HomePlanet</th>\n",
              "      <th>CryoSleep</th>\n",
              "      <th>Cabin</th>\n",
              "      <th>Destination</th>\n",
              "      <th>Age</th>\n",
              "      <th>VIP</th>\n",
              "      <th>RoomService</th>\n",
              "      <th>FoodCourt</th>\n",
              "      <th>ShoppingMall</th>\n",
              "      <th>Spa</th>\n",
              "      <th>VRDeck</th>\n",
              "      <th>Name</th>\n",
              "      <th>Transported</th>\n",
              "    </tr>\n",
              "  </thead>\n",
              "  <tbody>\n",
              "    <tr>\n",
              "      <th>0</th>\n",
              "      <td>3430</td>\n",
              "      <td>Europa</td>\n",
              "      <td>False</td>\n",
              "      <td>C/123/P</td>\n",
              "      <td>TRAPPIST-1e</td>\n",
              "      <td>57.0</td>\n",
              "      <td>False</td>\n",
              "      <td>0.0</td>\n",
              "      <td>3859.0</td>\n",
              "      <td>13.0</td>\n",
              "      <td>195.0</td>\n",
              "      <td>3874.0</td>\n",
              "      <td>Azhah Tronsive</td>\n",
              "      <td>0</td>\n",
              "    </tr>\n",
              "    <tr>\n",
              "      <th>1</th>\n",
              "      <td>669</td>\n",
              "      <td>Mars</td>\n",
              "      <td>True</td>\n",
              "      <td>F/126/S</td>\n",
              "      <td>NaN</td>\n",
              "      <td>18.0</td>\n",
              "      <td>False</td>\n",
              "      <td>0.0</td>\n",
              "      <td>0.0</td>\n",
              "      <td>0.0</td>\n",
              "      <td>0.0</td>\n",
              "      <td>0.0</td>\n",
              "      <td>Roswal Sha</td>\n",
              "      <td>1</td>\n",
              "    </tr>\n",
              "    <tr>\n",
              "      <th>2</th>\n",
              "      <td>8430</td>\n",
              "      <td>Europa</td>\n",
              "      <td>True</td>\n",
              "      <td>B/343/S</td>\n",
              "      <td>TRAPPIST-1e</td>\n",
              "      <td>33.0</td>\n",
              "      <td>NaN</td>\n",
              "      <td>0.0</td>\n",
              "      <td>0.0</td>\n",
              "      <td>0.0</td>\n",
              "      <td>0.0</td>\n",
              "      <td>0.0</td>\n",
              "      <td>Shaiam Tinganking</td>\n",
              "      <td>1</td>\n",
              "    </tr>\n",
              "    <tr>\n",
              "      <th>3</th>\n",
              "      <td>6463</td>\n",
              "      <td>Earth</td>\n",
              "      <td>False</td>\n",
              "      <td>F/1420/P</td>\n",
              "      <td>TRAPPIST-1e</td>\n",
              "      <td>43.0</td>\n",
              "      <td>False</td>\n",
              "      <td>142.0</td>\n",
              "      <td>1208.0</td>\n",
              "      <td>0.0</td>\n",
              "      <td>0.0</td>\n",
              "      <td>204.0</td>\n",
              "      <td>Landa Grifford</td>\n",
              "      <td>0</td>\n",
              "    </tr>\n",
              "    <tr>\n",
              "      <th>4</th>\n",
              "      <td>85</td>\n",
              "      <td>Earth</td>\n",
              "      <td>False</td>\n",
              "      <td>G/9/P</td>\n",
              "      <td>TRAPPIST-1e</td>\n",
              "      <td>19.0</td>\n",
              "      <td>False</td>\n",
              "      <td>0.0</td>\n",
              "      <td>0.0</td>\n",
              "      <td>670.0</td>\n",
              "      <td>1.0</td>\n",
              "      <td>34.0</td>\n",
              "      <td>Gracy Dunnisey</td>\n",
              "      <td>0</td>\n",
              "    </tr>\n",
              "  </tbody>\n",
              "</table>\n",
              "</div>"
            ],
            "text/plain": [
              "   PassengerId HomePlanet CryoSleep     Cabin  Destination   Age    VIP  \\\n",
              "0         3430     Europa     False   C/123/P  TRAPPIST-1e  57.0  False   \n",
              "1          669       Mars      True   F/126/S          NaN  18.0  False   \n",
              "2         8430     Europa      True   B/343/S  TRAPPIST-1e  33.0    NaN   \n",
              "3         6463      Earth     False  F/1420/P  TRAPPIST-1e  43.0  False   \n",
              "4           85      Earth     False     G/9/P  TRAPPIST-1e  19.0  False   \n",
              "\n",
              "   RoomService  FoodCourt  ShoppingMall    Spa  VRDeck               Name  \\\n",
              "0          0.0     3859.0          13.0  195.0  3874.0     Azhah Tronsive   \n",
              "1          0.0        0.0           0.0    0.0     0.0         Roswal Sha   \n",
              "2          0.0        0.0           0.0    0.0     0.0  Shaiam Tinganking   \n",
              "3        142.0     1208.0           0.0    0.0   204.0     Landa Grifford   \n",
              "4          0.0        0.0         670.0    1.0    34.0     Gracy Dunnisey   \n",
              "\n",
              "   Transported  \n",
              "0            0  \n",
              "1            1  \n",
              "2            1  \n",
              "3            0  \n",
              "4            0  "
            ]
          },
          "execution_count": 2,
          "metadata": {},
          "output_type": "execute_result"
        }
      ],
      "source": [
        "df = pd.read_csv('train.csv')\n",
        "df.head()"
      ]
    },
    {
      "cell_type": "markdown",
      "metadata": {
        "id": "MX__cIZCuyJe"
      },
      "source": [
        "## 1. Análisis Exploratorio"
      ]
    },
    {
      "cell_type": "code",
      "execution_count": null,
      "metadata": {
        "id": "t_gaVSwIw6av",
        "outputId": "dce3861b-d854-4413-8877-40198b583305"
      },
      "outputs": [
        {
          "data": {
            "text/plain": [
              "PassengerId       int64\n",
              "HomePlanet       object\n",
              "CryoSleep        object\n",
              "Cabin            object\n",
              "Destination      object\n",
              "Age             float64\n",
              "VIP              object\n",
              "RoomService     float64\n",
              "FoodCourt       float64\n",
              "ShoppingMall    float64\n",
              "Spa             float64\n",
              "VRDeck          float64\n",
              "Name             object\n",
              "Transported       int64\n",
              "dtype: object"
            ]
          },
          "execution_count": 3,
          "metadata": {},
          "output_type": "execute_result"
        }
      ],
      "source": [
        "df.dtypes"
      ]
    },
    {
      "cell_type": "code",
      "execution_count": null,
      "metadata": {
        "id": "kcruCaPnw6av",
        "outputId": "ece5ef8b-b74c-4494-ab33-22e8a14bacc3"
      },
      "outputs": [
        {
          "data": {
            "text/plain": [
              "(7823, 14)"
            ]
          },
          "execution_count": 4,
          "metadata": {},
          "output_type": "execute_result"
        }
      ],
      "source": [
        "df.shape"
      ]
    },
    {
      "cell_type": "code",
      "execution_count": null,
      "metadata": {
        "id": "pG2iR_ifw6av",
        "outputId": "61334a3a-6140-4339-a84d-c4086777f6dc"
      },
      "outputs": [
        {
          "data": {
            "text/html": [
              "<div>\n",
              "<style scoped>\n",
              "    .dataframe tbody tr th:only-of-type {\n",
              "        vertical-align: middle;\n",
              "    }\n",
              "\n",
              "    .dataframe tbody tr th {\n",
              "        vertical-align: top;\n",
              "    }\n",
              "\n",
              "    .dataframe thead th {\n",
              "        text-align: right;\n",
              "    }\n",
              "</style>\n",
              "<table border=\"1\" class=\"dataframe\">\n",
              "  <thead>\n",
              "    <tr style=\"text-align: right;\">\n",
              "      <th></th>\n",
              "      <th>PassengerId</th>\n",
              "      <th>Age</th>\n",
              "      <th>RoomService</th>\n",
              "      <th>FoodCourt</th>\n",
              "      <th>ShoppingMall</th>\n",
              "      <th>Spa</th>\n",
              "      <th>VRDeck</th>\n",
              "      <th>Transported</th>\n",
              "    </tr>\n",
              "  </thead>\n",
              "  <tbody>\n",
              "    <tr>\n",
              "      <th>count</th>\n",
              "      <td>7823.000000</td>\n",
              "      <td>7661.000000</td>\n",
              "      <td>7669.000000</td>\n",
              "      <td>7668.000000</td>\n",
              "      <td>7635.000000</td>\n",
              "      <td>7665.000000</td>\n",
              "      <td>7654.000000</td>\n",
              "      <td>7823.000000</td>\n",
              "    </tr>\n",
              "    <tr>\n",
              "      <th>mean</th>\n",
              "      <td>4345.691039</td>\n",
              "      <td>28.879389</td>\n",
              "      <td>226.078237</td>\n",
              "      <td>455.643062</td>\n",
              "      <td>172.600393</td>\n",
              "      <td>305.023222</td>\n",
              "      <td>295.476744</td>\n",
              "      <td>0.506711</td>\n",
              "    </tr>\n",
              "    <tr>\n",
              "      <th>std</th>\n",
              "      <td>2504.576803</td>\n",
              "      <td>14.461548</td>\n",
              "      <td>679.180148</td>\n",
              "      <td>1621.290107</td>\n",
              "      <td>597.923749</td>\n",
              "      <td>1133.423579</td>\n",
              "      <td>1093.485752</td>\n",
              "      <td>0.499987</td>\n",
              "    </tr>\n",
              "    <tr>\n",
              "      <th>min</th>\n",
              "      <td>0.000000</td>\n",
              "      <td>0.000000</td>\n",
              "      <td>0.000000</td>\n",
              "      <td>0.000000</td>\n",
              "      <td>0.000000</td>\n",
              "      <td>0.000000</td>\n",
              "      <td>0.000000</td>\n",
              "      <td>0.000000</td>\n",
              "    </tr>\n",
              "    <tr>\n",
              "      <th>25%</th>\n",
              "      <td>2182.500000</td>\n",
              "      <td>19.000000</td>\n",
              "      <td>0.000000</td>\n",
              "      <td>0.000000</td>\n",
              "      <td>0.000000</td>\n",
              "      <td>0.000000</td>\n",
              "      <td>0.000000</td>\n",
              "      <td>0.000000</td>\n",
              "    </tr>\n",
              "    <tr>\n",
              "      <th>50%</th>\n",
              "      <td>4345.000000</td>\n",
              "      <td>27.000000</td>\n",
              "      <td>0.000000</td>\n",
              "      <td>0.000000</td>\n",
              "      <td>0.000000</td>\n",
              "      <td>0.000000</td>\n",
              "      <td>0.000000</td>\n",
              "      <td>1.000000</td>\n",
              "    </tr>\n",
              "    <tr>\n",
              "      <th>75%</th>\n",
              "      <td>6515.500000</td>\n",
              "      <td>38.000000</td>\n",
              "      <td>44.000000</td>\n",
              "      <td>69.000000</td>\n",
              "      <td>28.000000</td>\n",
              "      <td>58.000000</td>\n",
              "      <td>46.000000</td>\n",
              "      <td>1.000000</td>\n",
              "    </tr>\n",
              "    <tr>\n",
              "      <th>max</th>\n",
              "      <td>8692.000000</td>\n",
              "      <td>79.000000</td>\n",
              "      <td>14327.000000</td>\n",
              "      <td>29813.000000</td>\n",
              "      <td>23492.000000</td>\n",
              "      <td>22408.000000</td>\n",
              "      <td>24133.000000</td>\n",
              "      <td>1.000000</td>\n",
              "    </tr>\n",
              "  </tbody>\n",
              "</table>\n",
              "</div>"
            ],
            "text/plain": [
              "       PassengerId          Age   RoomService     FoodCourt  ShoppingMall  \\\n",
              "count  7823.000000  7661.000000   7669.000000   7668.000000   7635.000000   \n",
              "mean   4345.691039    28.879389    226.078237    455.643062    172.600393   \n",
              "std    2504.576803    14.461548    679.180148   1621.290107    597.923749   \n",
              "min       0.000000     0.000000      0.000000      0.000000      0.000000   \n",
              "25%    2182.500000    19.000000      0.000000      0.000000      0.000000   \n",
              "50%    4345.000000    27.000000      0.000000      0.000000      0.000000   \n",
              "75%    6515.500000    38.000000     44.000000     69.000000     28.000000   \n",
              "max    8692.000000    79.000000  14327.000000  29813.000000  23492.000000   \n",
              "\n",
              "                Spa        VRDeck  Transported  \n",
              "count   7665.000000   7654.000000  7823.000000  \n",
              "mean     305.023222    295.476744     0.506711  \n",
              "std     1133.423579   1093.485752     0.499987  \n",
              "min        0.000000      0.000000     0.000000  \n",
              "25%        0.000000      0.000000     0.000000  \n",
              "50%        0.000000      0.000000     1.000000  \n",
              "75%       58.000000     46.000000     1.000000  \n",
              "max    22408.000000  24133.000000     1.000000  "
            ]
          },
          "execution_count": 5,
          "metadata": {},
          "output_type": "execute_result"
        }
      ],
      "source": [
        "# utilizamos la clase .describe() para explorar los atributos numéricos \n",
        "df.describe()"
      ]
    },
    {
      "cell_type": "code",
      "execution_count": null,
      "metadata": {
        "id": "7dlqX2-Aw6av",
        "outputId": "f45b6692-d694-4959-a91b-193f740fe79a"
      },
      "outputs": [
        {
          "data": {
            "text/plain": [
              "PassengerId       0\n",
              "HomePlanet      179\n",
              "CryoSleep       196\n",
              "Cabin           184\n",
              "Destination     160\n",
              "Age             162\n",
              "VIP             184\n",
              "RoomService     154\n",
              "FoodCourt       155\n",
              "ShoppingMall    188\n",
              "Spa             158\n",
              "VRDeck          169\n",
              "Name            184\n",
              "Transported       0\n",
              "dtype: int64"
            ]
          },
          "execution_count": 6,
          "metadata": {},
          "output_type": "execute_result"
        }
      ],
      "source": [
        "# analizamos la precencia de datos faltantes\n",
        "df.isna().sum()"
      ]
    },
    {
      "cell_type": "code",
      "execution_count": null,
      "metadata": {
        "id": "dkBY-J32w6aw",
        "outputId": "a17dca57-9c22-4a4f-b191-650403948bc2"
      },
      "outputs": [
        {
          "name": "stdout",
          "output_type": "stream",
          "text": [
            "<class 'pandas.core.frame.DataFrame'>\n",
            "RangeIndex: 7823 entries, 0 to 7822\n",
            "Data columns (total 14 columns):\n",
            " #   Column        Non-Null Count  Dtype  \n",
            "---  ------        --------------  -----  \n",
            " 0   PassengerId   7823 non-null   int64  \n",
            " 1   HomePlanet    7644 non-null   object \n",
            " 2   CryoSleep     7627 non-null   object \n",
            " 3   Cabin         7639 non-null   object \n",
            " 4   Destination   7663 non-null   object \n",
            " 5   Age           7661 non-null   float64\n",
            " 6   VIP           7639 non-null   object \n",
            " 7   RoomService   7669 non-null   float64\n",
            " 8   FoodCourt     7668 non-null   float64\n",
            " 9   ShoppingMall  7635 non-null   float64\n",
            " 10  Spa           7665 non-null   float64\n",
            " 11  VRDeck        7654 non-null   float64\n",
            " 12  Name          7639 non-null   object \n",
            " 13  Transported   7823 non-null   int64  \n",
            "dtypes: float64(6), int64(2), object(6)\n",
            "memory usage: 855.8+ KB\n"
          ]
        }
      ],
      "source": [
        "df.info()"
      ]
    },
    {
      "cell_type": "markdown",
      "metadata": {
        "id": "XLfCMUxWuyJi"
      },
      "source": [
        "Los últimos dos bloque nos muestran que, a excepción de PassengerID y Transported, todos los atributos tienen datos faltantes. Por lo tanto va a ser importante tomar una decisión acerca de qué hacer con esos datos."
      ]
    },
    {
      "cell_type": "code",
      "execution_count": null,
      "metadata": {
        "id": "DyPzYSyTw6aw",
        "outputId": "93b2f251-ff07-4648-c73f-f16b76b5f173"
      },
      "outputs": [
        {
          "data": {
            "text/plain": [
              "<AxesSubplot:>"
            ]
          },
          "execution_count": 8,
          "metadata": {},
          "output_type": "execute_result"
        },
        {
          "data": {
            "image/png": "[encoded data removed]",
            "text/plain": [
              "<Figure size 1800x720 with 2 Axes>"
            ]
          },
          "metadata": {
            "needs_background": "light"
          },
          "output_type": "display_data"
        }
      ],
      "source": [
        "# analizamos la distribución de datos faltantes utilizando la librería missingno\n",
        "msno.matrix(df)"
      ]
    },
    {
      "cell_type": "code",
      "execution_count": null,
      "metadata": {
        "id": "78WJDp8nw6aw",
        "outputId": "c50f023c-ffee-4034-e7ab-9396ed0d68f5"
      },
      "outputs": [
        {
          "name": "stdout",
          "output_type": "stream",
          "text": [
            "==================================================\n",
            "Atributo:PassengerId\n",
            "Valores Únicos: 7823\n",
            "[3430  669 8430 ... 8076 3829 7624]\n",
            "==================================================\n",
            "Atributo:HomePlanet\n",
            "Valores Únicos: 3\n",
            "['Europa' 'Mars' 'Earth' nan]\n",
            "==================================================\n",
            "Atributo:CryoSleep\n",
            "Valores Únicos: 2\n",
            "[False True nan]\n",
            "==================================================\n",
            "Atributo:Cabin\n",
            "Valores Únicos: 6009\n",
            "['C/123/P' 'F/126/S' 'B/343/S' ... 'G/459/S' 'F/1772/P' 'E/253/P']\n",
            "==================================================\n",
            "Atributo:Destination\n",
            "Valores Únicos: 3\n",
            "['TRAPPIST-1e' nan 'PSO J318.5-22' '55 Cancri e']\n",
            "==================================================\n",
            "Atributo:Age\n",
            "Valores Únicos: 80\n",
            "[57. 18. 33. 43. 19. 23. 29. 36. 38. 31. 17. 27. 20. 21. 39. nan 46. 49.\n",
            " 55. 22. 52.  0. 56. 51. 41. 25. 34. 26. 64. 63. 37. 48. 53. 14. 16. 50.\n",
            " 45.  4. 11. 24. 13.  3. 28. 47. 54. 73. 15.  5. 32.  6. 40. 44. 65. 67.\n",
            "  1. 30. 60. 59.  2.  7. 42. 71. 35. 79. 62. 61.  9. 58. 10. 68.  8. 66.\n",
            " 12. 74. 70. 72. 69. 75. 78. 77. 76.]\n",
            "==================================================\n",
            "Atributo:VIP\n",
            "Valores Únicos: 2\n",
            "[False nan True]\n",
            "==================================================\n",
            "Atributo:RoomService\n",
            "Valores Únicos: 1195\n",
            "[  0. 142.  90. ... 215. 271. 797.]\n",
            "==================================================\n",
            "Atributo:FoodCourt\n",
            "Valores Únicos: 1400\n",
            "[3859.    0. 1208. ... 3315. 2347.  840.]\n",
            "==================================================\n",
            "Atributo:ShoppingMall\n",
            "Valores Únicos: 1045\n",
            "[  13.    0.  670. ... 2341. 2251.  807.]\n",
            "==================================================\n",
            "Atributo:Spa\n",
            "Valores Únicos: 1238\n",
            "[1.950e+02 0.000e+00 1.000e+00 ... 1.277e+03 6.190e+02 1.412e+03]\n",
            "==================================================\n",
            "Atributo:VRDeck\n",
            "Valores Únicos: 1229\n",
            "[3874.    0.  204. ... 2153.  408.  304.]\n",
            "==================================================\n",
            "Atributo:Name\n",
            "Valores Únicos: 7623\n",
            "['Azhah Tronsive' 'Roswal Sha' 'Shaiam Tinganking' ... 'Panzel Ruity'\n",
            " 'Belly Weavesend' 'Graston Donotaked']\n",
            "==================================================\n",
            "Atributo:Transported\n",
            "Valores Únicos: 2\n",
            "[0 1]\n"
          ]
        }
      ],
      "source": [
        "# analizamos que cántidad de datos únicos tenemos para cada atributo\n",
        "for i in df:\n",
        "    print('='*50)\n",
        "    print(f'Atributo:{i}')\n",
        "    print(f'Valores Únicos: {df[i].nunique()}')\n",
        "    print(df[i].unique())"
      ]
    },
    {
      "cell_type": "code",
      "execution_count": null,
      "metadata": {
        "id": "Key5nbBzw6aw",
        "outputId": "afefe7a1-9783-4252-8308-6817c68ab264"
      },
      "outputs": [
        {
          "data": {
            "text/plain": [
              "Index(['HomePlanet', 'CryoSleep', 'Cabin', 'Destination', 'Age', 'VIP',\n",
              "       'RoomService', 'FoodCourt', 'ShoppingMall', 'Spa', 'VRDeck',\n",
              "       'Transported'],\n",
              "      dtype='object')"
            ]
          },
          "execution_count": 10,
          "metadata": {},
          "output_type": "execute_result"
        }
      ],
      "source": [
        "# Los atributos 'PassengerID' y 'Nane' no van a tener ninguna importancia para entrenar un modelo de ML.\n",
        "# Por lo tanto decidimos eliminar estas columnas\n",
        "\n",
        "df.drop(['PassengerId','Name'], axis=1, inplace=True)\n",
        "df.columns"
      ]
    },
    {
      "cell_type": "code",
      "execution_count": null,
      "metadata": {
        "id": "QrQGk8zHw6aw",
        "outputId": "17ecbdcb-3079-4ea3-9176-151b4b8adc81"
      },
      "outputs": [
        {
          "data": {
            "text/plain": [
              "HomePlanet       object\n",
              "CryoSleep        object\n",
              "Cabin            object\n",
              "Destination      object\n",
              "Age             float64\n",
              "VIP              object\n",
              "RoomService     float64\n",
              "FoodCourt       float64\n",
              "ShoppingMall    float64\n",
              "Spa             float64\n",
              "VRDeck          float64\n",
              "Transported       int64\n",
              "dtype: object"
            ]
          },
          "execution_count": 11,
          "metadata": {},
          "output_type": "execute_result"
        }
      ],
      "source": [
        "# analizamos qué tipo de datos están almacenados en cada columna\n",
        "df.dtypes"
      ]
    },
    {
      "cell_type": "markdown",
      "source": [
        "## 2. Curación de datos"
      ],
      "metadata": {
        "id": "8BVjpC3d99da"
      }
    },
    {
      "cell_type": "markdown",
      "metadata": {
        "id": "wdZqwheBuyJk"
      },
      "source": [
        "### Imputación de datos faltantes"
      ]
    },
    {
      "cell_type": "markdown",
      "metadata": {
        "id": "wCoL9B3LuyJl"
      },
      "source": [
        "#### Datos Categóricos"
      ]
    },
    {
      "cell_type": "code",
      "execution_count": null,
      "metadata": {
        "id": "JD-tpQu7w6aw",
        "outputId": "713d00e5-5085-45b2-f0d9-c5125f5c6e3c"
      },
      "outputs": [
        {
          "data": {
            "text/plain": [
              "HomePlanet        0\n",
              "CryoSleep         0\n",
              "Cabin             0\n",
              "Destination       0\n",
              "Age             162\n",
              "VIP               0\n",
              "RoomService     154\n",
              "FoodCourt       155\n",
              "ShoppingMall    188\n",
              "Spa             158\n",
              "VRDeck          169\n",
              "Transported       0\n",
              "dtype: int64"
            ]
          },
          "execution_count": 12,
          "metadata": {},
          "output_type": "execute_result"
        }
      ],
      "source": [
        "# imputamos los datos faltantes categoricos\n",
        "\n",
        "# creamos una copia del último df\n",
        "df_most_frequent = df.copy()\n",
        "\n",
        "# creamos una variable que contiene lo nombres de las columnas que queremos imputar\n",
        "categorical_cols = ['HomePlanet', 'CryoSleep', 'Cabin', 'VIP', 'Destination' ]\n",
        "\n",
        " \n",
        "# Vamos a utilizar 'most_frequent' como estrategia de imputación\n",
        "categorical_imputer = SimpleImputer(strategy='most_frequent')\n",
        "df_most_frequent[categorical_cols] = categorical_imputer.fit_transform(df_most_frequent[categorical_cols])\n",
        "\n",
        "\n",
        "df_most_frequent.isna().sum()"
      ]
    },
    {
      "cell_type": "markdown",
      "metadata": {
        "id": "ZP6KYyL8uyJl"
      },
      "source": [
        "#### Datos Numéricos"
      ]
    },
    {
      "cell_type": "code",
      "execution_count": null,
      "metadata": {
        "id": "2ZDLb-X4w6ay"
      },
      "outputs": [],
      "source": [
        "# imputamos los datos faltantes de los atributos numericos\n",
        "\n",
        "# creamos una variable que contiene los nombres de las columnas que queremos imputar\n",
        "imputer_cols = [\"Age\", \"FoodCourt\", \"ShoppingMall\", \"Spa\", \"VRDeck\" ,\"RoomService\"]\n",
        "\n",
        "\n",
        "# creamos una copia del último df\n",
        "df_2 = df_most_frequent.copy()\n",
        "\n",
        "# Vamos a imputar por la mediana\n",
        "imputer = SimpleImputer(strategy=\"median\")\n",
        "df_2[imputer_cols] = imputer.fit_transform(df_2[imputer_cols])"
      ]
    },
    {
      "cell_type": "code",
      "execution_count": null,
      "metadata": {
        "id": "wHsVyGY3w6ay",
        "outputId": "ec95ac05-ebcb-45f4-8e64-d901c672f4a6"
      },
      "outputs": [
        {
          "data": {
            "text/plain": [
              "HomePlanet      0\n",
              "CryoSleep       0\n",
              "Cabin           0\n",
              "Destination     0\n",
              "Age             0\n",
              "VIP             0\n",
              "RoomService     0\n",
              "FoodCourt       0\n",
              "ShoppingMall    0\n",
              "Spa             0\n",
              "VRDeck          0\n",
              "Transported     0\n",
              "dtype: int64"
            ]
          },
          "execution_count": 14,
          "metadata": {},
          "output_type": "execute_result"
        }
      ],
      "source": [
        "df_2.isna().sum()"
      ]
    },
    {
      "cell_type": "markdown",
      "metadata": {
        "id": "FkLlAZ_tuyJm"
      },
      "source": [
        "Con esta úlitma celda confirmamos que después de los pasos de imputación no nos queda ningún atributo que tenga datos faltantes."
      ]
    },
    {
      "cell_type": "markdown",
      "metadata": {
        "id": "GZIr-uNeuyJn"
      },
      "source": [
        "#### Atributo Cabin\n",
        "La columna cabin tiene información que convendría tenerla como atributos separados."
      ]
    },
    {
      "cell_type": "code",
      "execution_count": null,
      "metadata": {
        "id": "oaQlgBW3w6ay",
        "outputId": "9acd5d05-ac42-4ea8-b7db-9ac015017fea"
      },
      "outputs": [
        {
          "data": {
            "text/html": [
              "<div>\n",
              "<style scoped>\n",
              "    .dataframe tbody tr th:only-of-type {\n",
              "        vertical-align: middle;\n",
              "    }\n",
              "\n",
              "    .dataframe tbody tr th {\n",
              "        vertical-align: top;\n",
              "    }\n",
              "\n",
              "    .dataframe thead th {\n",
              "        text-align: right;\n",
              "    }\n",
              "</style>\n",
              "<table border=\"1\" class=\"dataframe\">\n",
              "  <thead>\n",
              "    <tr style=\"text-align: right;\">\n",
              "      <th></th>\n",
              "      <th>HomePlanet</th>\n",
              "      <th>CryoSleep</th>\n",
              "      <th>Destination</th>\n",
              "      <th>Age</th>\n",
              "      <th>VIP</th>\n",
              "      <th>RoomService</th>\n",
              "      <th>FoodCourt</th>\n",
              "      <th>ShoppingMall</th>\n",
              "      <th>Spa</th>\n",
              "      <th>VRDeck</th>\n",
              "      <th>Transported</th>\n",
              "      <th>Deck</th>\n",
              "      <th>Num</th>\n",
              "      <th>Side</th>\n",
              "    </tr>\n",
              "  </thead>\n",
              "  <tbody>\n",
              "    <tr>\n",
              "      <th>0</th>\n",
              "      <td>Europa</td>\n",
              "      <td>False</td>\n",
              "      <td>TRAPPIST-1e</td>\n",
              "      <td>57.0</td>\n",
              "      <td>False</td>\n",
              "      <td>0.0</td>\n",
              "      <td>3859.0</td>\n",
              "      <td>13.0</td>\n",
              "      <td>195.0</td>\n",
              "      <td>3874.0</td>\n",
              "      <td>0</td>\n",
              "      <td>C</td>\n",
              "      <td>123</td>\n",
              "      <td>P</td>\n",
              "    </tr>\n",
              "    <tr>\n",
              "      <th>1</th>\n",
              "      <td>Mars</td>\n",
              "      <td>True</td>\n",
              "      <td>TRAPPIST-1e</td>\n",
              "      <td>18.0</td>\n",
              "      <td>False</td>\n",
              "      <td>0.0</td>\n",
              "      <td>0.0</td>\n",
              "      <td>0.0</td>\n",
              "      <td>0.0</td>\n",
              "      <td>0.0</td>\n",
              "      <td>1</td>\n",
              "      <td>F</td>\n",
              "      <td>126</td>\n",
              "      <td>S</td>\n",
              "    </tr>\n",
              "    <tr>\n",
              "      <th>2</th>\n",
              "      <td>Europa</td>\n",
              "      <td>True</td>\n",
              "      <td>TRAPPIST-1e</td>\n",
              "      <td>33.0</td>\n",
              "      <td>False</td>\n",
              "      <td>0.0</td>\n",
              "      <td>0.0</td>\n",
              "      <td>0.0</td>\n",
              "      <td>0.0</td>\n",
              "      <td>0.0</td>\n",
              "      <td>1</td>\n",
              "      <td>B</td>\n",
              "      <td>343</td>\n",
              "      <td>S</td>\n",
              "    </tr>\n",
              "    <tr>\n",
              "      <th>3</th>\n",
              "      <td>Earth</td>\n",
              "      <td>False</td>\n",
              "      <td>TRAPPIST-1e</td>\n",
              "      <td>43.0</td>\n",
              "      <td>False</td>\n",
              "      <td>142.0</td>\n",
              "      <td>1208.0</td>\n",
              "      <td>0.0</td>\n",
              "      <td>0.0</td>\n",
              "      <td>204.0</td>\n",
              "      <td>0</td>\n",
              "      <td>F</td>\n",
              "      <td>1420</td>\n",
              "      <td>P</td>\n",
              "    </tr>\n",
              "    <tr>\n",
              "      <th>4</th>\n",
              "      <td>Earth</td>\n",
              "      <td>False</td>\n",
              "      <td>TRAPPIST-1e</td>\n",
              "      <td>19.0</td>\n",
              "      <td>False</td>\n",
              "      <td>0.0</td>\n",
              "      <td>0.0</td>\n",
              "      <td>670.0</td>\n",
              "      <td>1.0</td>\n",
              "      <td>34.0</td>\n",
              "      <td>0</td>\n",
              "      <td>G</td>\n",
              "      <td>9</td>\n",
              "      <td>P</td>\n",
              "    </tr>\n",
              "  </tbody>\n",
              "</table>\n",
              "</div>"
            ],
            "text/plain": [
              "  HomePlanet CryoSleep  Destination   Age    VIP  RoomService  FoodCourt  \\\n",
              "0     Europa     False  TRAPPIST-1e  57.0  False          0.0     3859.0   \n",
              "1       Mars      True  TRAPPIST-1e  18.0  False          0.0        0.0   \n",
              "2     Europa      True  TRAPPIST-1e  33.0  False          0.0        0.0   \n",
              "3      Earth     False  TRAPPIST-1e  43.0  False        142.0     1208.0   \n",
              "4      Earth     False  TRAPPIST-1e  19.0  False          0.0        0.0   \n",
              "\n",
              "   ShoppingMall    Spa  VRDeck  Transported Deck   Num Side  \n",
              "0          13.0  195.0  3874.0            0    C   123    P  \n",
              "1           0.0    0.0     0.0            1    F   126    S  \n",
              "2           0.0    0.0     0.0            1    B   343    S  \n",
              "3           0.0    0.0   204.0            0    F  1420    P  \n",
              "4         670.0    1.0    34.0            0    G     9    P  "
            ]
          },
          "execution_count": 16,
          "metadata": {},
          "output_type": "execute_result"
        }
      ],
      "source": [
        "# dividimos la columna Cabin en 3 columnas separndo por el '/'\n",
        "df_3 = df_2.copy()\n",
        "df_3[['Deck', 'Num', 'Side']] = df_3['Cabin'].str.split('/', expand=True)\n",
        "df_3.drop(columns = 'Cabin', inplace = True)\n",
        "df_3.head()"
      ]
    },
    {
      "cell_type": "markdown",
      "metadata": {
        "id": "T4CBfVIPuyJo"
      },
      "source": [
        "#### Codificación de datos categóricos"
      ]
    },
    {
      "cell_type": "code",
      "execution_count": null,
      "metadata": {
        "id": "EXSY6fKgw6ay",
        "outputId": "8c84345a-4937-428f-bc0f-e326cc9d64ed"
      },
      "outputs": [
        {
          "data": {
            "text/html": [
              "<div>\n",
              "<style scoped>\n",
              "    .dataframe tbody tr th:only-of-type {\n",
              "        vertical-align: middle;\n",
              "    }\n",
              "\n",
              "    .dataframe tbody tr th {\n",
              "        vertical-align: top;\n",
              "    }\n",
              "\n",
              "    .dataframe thead th {\n",
              "        text-align: right;\n",
              "    }\n",
              "</style>\n",
              "<table border=\"1\" class=\"dataframe\">\n",
              "  <thead>\n",
              "    <tr style=\"text-align: right;\">\n",
              "      <th></th>\n",
              "      <th>HomePlanet</th>\n",
              "      <th>CryoSleep</th>\n",
              "      <th>Destination</th>\n",
              "      <th>Age</th>\n",
              "      <th>VIP</th>\n",
              "      <th>RoomService</th>\n",
              "      <th>FoodCourt</th>\n",
              "      <th>ShoppingMall</th>\n",
              "      <th>Spa</th>\n",
              "      <th>VRDeck</th>\n",
              "      <th>Transported</th>\n",
              "      <th>Deck</th>\n",
              "      <th>Num</th>\n",
              "      <th>Side</th>\n",
              "    </tr>\n",
              "  </thead>\n",
              "  <tbody>\n",
              "    <tr>\n",
              "      <th>0</th>\n",
              "      <td>1</td>\n",
              "      <td>0</td>\n",
              "      <td>2</td>\n",
              "      <td>57.0</td>\n",
              "      <td>0</td>\n",
              "      <td>0.0</td>\n",
              "      <td>3859.0</td>\n",
              "      <td>13.0</td>\n",
              "      <td>195.0</td>\n",
              "      <td>3874.0</td>\n",
              "      <td>0</td>\n",
              "      <td>2</td>\n",
              "      <td>123</td>\n",
              "      <td>0</td>\n",
              "    </tr>\n",
              "    <tr>\n",
              "      <th>1</th>\n",
              "      <td>2</td>\n",
              "      <td>1</td>\n",
              "      <td>2</td>\n",
              "      <td>18.0</td>\n",
              "      <td>0</td>\n",
              "      <td>0.0</td>\n",
              "      <td>0.0</td>\n",
              "      <td>0.0</td>\n",
              "      <td>0.0</td>\n",
              "      <td>0.0</td>\n",
              "      <td>1</td>\n",
              "      <td>5</td>\n",
              "      <td>126</td>\n",
              "      <td>1</td>\n",
              "    </tr>\n",
              "    <tr>\n",
              "      <th>2</th>\n",
              "      <td>1</td>\n",
              "      <td>1</td>\n",
              "      <td>2</td>\n",
              "      <td>33.0</td>\n",
              "      <td>0</td>\n",
              "      <td>0.0</td>\n",
              "      <td>0.0</td>\n",
              "      <td>0.0</td>\n",
              "      <td>0.0</td>\n",
              "      <td>0.0</td>\n",
              "      <td>1</td>\n",
              "      <td>1</td>\n",
              "      <td>343</td>\n",
              "      <td>1</td>\n",
              "    </tr>\n",
              "    <tr>\n",
              "      <th>3</th>\n",
              "      <td>0</td>\n",
              "      <td>0</td>\n",
              "      <td>2</td>\n",
              "      <td>43.0</td>\n",
              "      <td>0</td>\n",
              "      <td>142.0</td>\n",
              "      <td>1208.0</td>\n",
              "      <td>0.0</td>\n",
              "      <td>0.0</td>\n",
              "      <td>204.0</td>\n",
              "      <td>0</td>\n",
              "      <td>5</td>\n",
              "      <td>1420</td>\n",
              "      <td>0</td>\n",
              "    </tr>\n",
              "    <tr>\n",
              "      <th>4</th>\n",
              "      <td>0</td>\n",
              "      <td>0</td>\n",
              "      <td>2</td>\n",
              "      <td>19.0</td>\n",
              "      <td>0</td>\n",
              "      <td>0.0</td>\n",
              "      <td>0.0</td>\n",
              "      <td>670.0</td>\n",
              "      <td>1.0</td>\n",
              "      <td>34.0</td>\n",
              "      <td>0</td>\n",
              "      <td>6</td>\n",
              "      <td>9</td>\n",
              "      <td>0</td>\n",
              "    </tr>\n",
              "  </tbody>\n",
              "</table>\n",
              "</div>"
            ],
            "text/plain": [
              "   HomePlanet  CryoSleep  Destination   Age  VIP  RoomService  FoodCourt  \\\n",
              "0           1          0            2  57.0    0          0.0     3859.0   \n",
              "1           2          1            2  18.0    0          0.0        0.0   \n",
              "2           1          1            2  33.0    0          0.0        0.0   \n",
              "3           0          0            2  43.0    0        142.0     1208.0   \n",
              "4           0          0            2  19.0    0          0.0        0.0   \n",
              "\n",
              "   ShoppingMall    Spa  VRDeck  Transported  Deck   Num  Side  \n",
              "0          13.0  195.0  3874.0            0     2   123     0  \n",
              "1           0.0    0.0     0.0            1     5   126     1  \n",
              "2           0.0    0.0     0.0            1     1   343     1  \n",
              "3           0.0    0.0   204.0            0     5  1420     0  \n",
              "4         670.0    1.0    34.0            0     6     9     0  "
            ]
          },
          "execution_count": 17,
          "metadata": {},
          "output_type": "execute_result"
        }
      ],
      "source": [
        "# codificamos los datos categoricos\n",
        "\n",
        "# definimos una variable que contiene los nombres de las columnas categóricas que queremos codificar\n",
        "categorical_cols_2 = ['HomePlanet', 'CryoSleep', 'VIP', 'Destination', 'Deck', 'Side']\n",
        "\n",
        "\n",
        "for col in categorical_cols_2:\n",
        "    df_3[col] = df_3[col].astype(str)\n",
        "    df_3[col] = LabelEncoder().fit_transform(df_3[col])\n",
        "\n",
        "df_3.head()"
      ]
    },
    {
      "cell_type": "code",
      "execution_count": null,
      "metadata": {
        "id": "GBOLKrj2w6az",
        "outputId": "c85def52-2e73-42a5-aa61-159c6bf9c3a2"
      },
      "outputs": [
        {
          "data": {
            "text/plain": [
              "HomePlanet        int32\n",
              "CryoSleep         int32\n",
              "Destination       int32\n",
              "Age             float64\n",
              "VIP               int32\n",
              "RoomService     float64\n",
              "FoodCourt       float64\n",
              "ShoppingMall    float64\n",
              "Spa             float64\n",
              "VRDeck          float64\n",
              "Transported       int64\n",
              "Deck              int32\n",
              "Num              object\n",
              "Side              int32\n",
              "dtype: object"
            ]
          },
          "execution_count": 18,
          "metadata": {},
          "output_type": "execute_result"
        }
      ],
      "source": [
        "# todvía nos queda la columna Num como datos categóricos\n",
        "# qué hacemos?\n",
        "df_3.dtypes"
      ]
    },
    {
      "cell_type": "markdown",
      "metadata": {
        "id": "k8k9KNG7uyJp"
      },
      "source": [
        "### Definimos Atributos y Etiquetas"
      ]
    },
    {
      "cell_type": "code",
      "execution_count": null,
      "metadata": {
        "id": "xuYpWmvlw6az",
        "outputId": "08955c2c-5296-4f0c-ae9f-2be272f01ce9"
      },
      "outputs": [
        {
          "data": {
            "text/plain": [
              "0       0\n",
              "1       1\n",
              "2       1\n",
              "3       0\n",
              "4       0\n",
              "       ..\n",
              "7818    1\n",
              "7819    0\n",
              "7820    1\n",
              "7821    0\n",
              "7822    1\n",
              "Name: Transported, Length: 7823, dtype: int64"
            ]
          },
          "execution_count": 19,
          "metadata": {},
          "output_type": "execute_result"
        }
      ],
      "source": [
        "# guardamos las etiquetas en una variable y\n",
        "y = df.Transported\n",
        "y"
      ]
    },
    {
      "cell_type": "code",
      "execution_count": null,
      "metadata": {
        "id": "sYnuLP3PuyJq",
        "outputId": "01dec249-cf42-4017-da2e-54ab4c318bf7"
      },
      "outputs": [
        {
          "data": {
            "text/html": [
              "<div>\n",
              "<style scoped>\n",
              "    .dataframe tbody tr th:only-of-type {\n",
              "        vertical-align: middle;\n",
              "    }\n",
              "\n",
              "    .dataframe tbody tr th {\n",
              "        vertical-align: top;\n",
              "    }\n",
              "\n",
              "    .dataframe thead th {\n",
              "        text-align: right;\n",
              "    }\n",
              "</style>\n",
              "<table border=\"1\" class=\"dataframe\">\n",
              "  <thead>\n",
              "    <tr style=\"text-align: right;\">\n",
              "      <th></th>\n",
              "      <th>HomePlanet</th>\n",
              "      <th>CryoSleep</th>\n",
              "      <th>Destination</th>\n",
              "      <th>Age</th>\n",
              "      <th>VIP</th>\n",
              "      <th>RoomService</th>\n",
              "      <th>FoodCourt</th>\n",
              "      <th>ShoppingMall</th>\n",
              "      <th>Spa</th>\n",
              "      <th>VRDeck</th>\n",
              "      <th>Deck</th>\n",
              "      <th>Num</th>\n",
              "      <th>Side</th>\n",
              "    </tr>\n",
              "  </thead>\n",
              "  <tbody>\n",
              "    <tr>\n",
              "      <th>0</th>\n",
              "      <td>1</td>\n",
              "      <td>0</td>\n",
              "      <td>2</td>\n",
              "      <td>57.0</td>\n",
              "      <td>0</td>\n",
              "      <td>0.0</td>\n",
              "      <td>3859.0</td>\n",
              "      <td>13.0</td>\n",
              "      <td>195.0</td>\n",
              "      <td>3874.0</td>\n",
              "      <td>2</td>\n",
              "      <td>123</td>\n",
              "      <td>0</td>\n",
              "    </tr>\n",
              "    <tr>\n",
              "      <th>1</th>\n",
              "      <td>2</td>\n",
              "      <td>1</td>\n",
              "      <td>2</td>\n",
              "      <td>18.0</td>\n",
              "      <td>0</td>\n",
              "      <td>0.0</td>\n",
              "      <td>0.0</td>\n",
              "      <td>0.0</td>\n",
              "      <td>0.0</td>\n",
              "      <td>0.0</td>\n",
              "      <td>5</td>\n",
              "      <td>126</td>\n",
              "      <td>1</td>\n",
              "    </tr>\n",
              "    <tr>\n",
              "      <th>2</th>\n",
              "      <td>1</td>\n",
              "      <td>1</td>\n",
              "      <td>2</td>\n",
              "      <td>33.0</td>\n",
              "      <td>0</td>\n",
              "      <td>0.0</td>\n",
              "      <td>0.0</td>\n",
              "      <td>0.0</td>\n",
              "      <td>0.0</td>\n",
              "      <td>0.0</td>\n",
              "      <td>1</td>\n",
              "      <td>343</td>\n",
              "      <td>1</td>\n",
              "    </tr>\n",
              "    <tr>\n",
              "      <th>3</th>\n",
              "      <td>0</td>\n",
              "      <td>0</td>\n",
              "      <td>2</td>\n",
              "      <td>43.0</td>\n",
              "      <td>0</td>\n",
              "      <td>142.0</td>\n",
              "      <td>1208.0</td>\n",
              "      <td>0.0</td>\n",
              "      <td>0.0</td>\n",
              "      <td>204.0</td>\n",
              "      <td>5</td>\n",
              "      <td>1420</td>\n",
              "      <td>0</td>\n",
              "    </tr>\n",
              "    <tr>\n",
              "      <th>4</th>\n",
              "      <td>0</td>\n",
              "      <td>0</td>\n",
              "      <td>2</td>\n",
              "      <td>19.0</td>\n",
              "      <td>0</td>\n",
              "      <td>0.0</td>\n",
              "      <td>0.0</td>\n",
              "      <td>670.0</td>\n",
              "      <td>1.0</td>\n",
              "      <td>34.0</td>\n",
              "      <td>6</td>\n",
              "      <td>9</td>\n",
              "      <td>0</td>\n",
              "    </tr>\n",
              "  </tbody>\n",
              "</table>\n",
              "</div>"
            ],
            "text/plain": [
              "   HomePlanet  CryoSleep  Destination   Age  VIP  RoomService  FoodCourt  \\\n",
              "0           1          0            2  57.0    0          0.0     3859.0   \n",
              "1           2          1            2  18.0    0          0.0        0.0   \n",
              "2           1          1            2  33.0    0          0.0        0.0   \n",
              "3           0          0            2  43.0    0        142.0     1208.0   \n",
              "4           0          0            2  19.0    0          0.0        0.0   \n",
              "\n",
              "   ShoppingMall    Spa  VRDeck  Deck   Num  Side  \n",
              "0          13.0  195.0  3874.0     2   123     0  \n",
              "1           0.0    0.0     0.0     5   126     1  \n",
              "2           0.0    0.0     0.0     1   343     1  \n",
              "3           0.0    0.0   204.0     5  1420     0  \n",
              "4         670.0    1.0    34.0     6     9     0  "
            ]
          },
          "execution_count": 20,
          "metadata": {},
          "output_type": "execute_result"
        }
      ],
      "source": [
        "# guardamos los atributos en una variable X\n",
        "X = df_3.drop(columns = 'Transported')\n",
        "X.head()"
      ]
    },
    {
      "cell_type": "markdown",
      "metadata": {
        "id": "nvdmTeTPuyJr"
      },
      "source": [
        "## 3. Escalado"
      ]
    },
    {
      "cell_type": "code",
      "execution_count": null,
      "metadata": {
        "id": "g42r6ScJw6az",
        "outputId": "160a408d-aecd-453e-c7f4-8d13b93d64be"
      },
      "outputs": [
        {
          "data": {
            "text/html": [
              "<div>\n",
              "<style scoped>\n",
              "    .dataframe tbody tr th:only-of-type {\n",
              "        vertical-align: middle;\n",
              "    }\n",
              "\n",
              "    .dataframe tbody tr th {\n",
              "        vertical-align: top;\n",
              "    }\n",
              "\n",
              "    .dataframe thead th {\n",
              "        text-align: right;\n",
              "    }\n",
              "</style>\n",
              "<table border=\"1\" class=\"dataframe\">\n",
              "  <thead>\n",
              "    <tr style=\"text-align: right;\">\n",
              "      <th></th>\n",
              "      <th>HomePlanet</th>\n",
              "      <th>CryoSleep</th>\n",
              "      <th>Destination</th>\n",
              "      <th>Age</th>\n",
              "      <th>VIP</th>\n",
              "      <th>RoomService</th>\n",
              "      <th>FoodCourt</th>\n",
              "      <th>ShoppingMall</th>\n",
              "      <th>Spa</th>\n",
              "      <th>VRDeck</th>\n",
              "      <th>Deck</th>\n",
              "      <th>Num</th>\n",
              "      <th>Side</th>\n",
              "    </tr>\n",
              "  </thead>\n",
              "  <tbody>\n",
              "    <tr>\n",
              "      <th>0</th>\n",
              "      <td>0.433235</td>\n",
              "      <td>-0.737504</td>\n",
              "      <td>0.622444</td>\n",
              "      <td>1.967465</td>\n",
              "      <td>-0.154767</td>\n",
              "      <td>-0.329239</td>\n",
              "      <td>2.124377</td>\n",
              "      <td>-0.262923</td>\n",
              "      <td>-0.092514</td>\n",
              "      <td>3.312022</td>\n",
              "      <td>-1.312321</td>\n",
              "      <td>-0.945999</td>\n",
              "      <td>-1.028924</td>\n",
              "    </tr>\n",
              "    <tr>\n",
              "      <th>1</th>\n",
              "      <td>1.689423</td>\n",
              "      <td>1.355926</td>\n",
              "      <td>0.622444</td>\n",
              "      <td>-0.757408</td>\n",
              "      <td>-0.154767</td>\n",
              "      <td>-0.329239</td>\n",
              "      <td>-0.278040</td>\n",
              "      <td>-0.284910</td>\n",
              "      <td>-0.266208</td>\n",
              "      <td>-0.267088</td>\n",
              "      <td>0.372887</td>\n",
              "      <td>-0.940067</td>\n",
              "      <td>0.971889</td>\n",
              "    </tr>\n",
              "    <tr>\n",
              "      <th>2</th>\n",
              "      <td>0.433235</td>\n",
              "      <td>1.355926</td>\n",
              "      <td>0.622444</td>\n",
              "      <td>0.290620</td>\n",
              "      <td>-0.154767</td>\n",
              "      <td>-0.329239</td>\n",
              "      <td>-0.278040</td>\n",
              "      <td>-0.284910</td>\n",
              "      <td>-0.266208</td>\n",
              "      <td>-0.267088</td>\n",
              "      <td>-1.874058</td>\n",
              "      <td>-0.510990</td>\n",
              "      <td>0.971889</td>\n",
              "    </tr>\n",
              "    <tr>\n",
              "      <th>3</th>\n",
              "      <td>-0.822954</td>\n",
              "      <td>-0.737504</td>\n",
              "      <td>0.622444</td>\n",
              "      <td>0.989305</td>\n",
              "      <td>-0.154767</td>\n",
              "      <td>-0.118291</td>\n",
              "      <td>0.473999</td>\n",
              "      <td>-0.284910</td>\n",
              "      <td>-0.266208</td>\n",
              "      <td>-0.078616</td>\n",
              "      <td>0.372887</td>\n",
              "      <td>1.618572</td>\n",
              "      <td>-1.028924</td>\n",
              "    </tr>\n",
              "    <tr>\n",
              "      <th>4</th>\n",
              "      <td>-0.822954</td>\n",
              "      <td>-0.737504</td>\n",
              "      <td>0.622444</td>\n",
              "      <td>-0.687539</td>\n",
              "      <td>-0.154767</td>\n",
              "      <td>-0.329239</td>\n",
              "      <td>-0.278040</td>\n",
              "      <td>0.848286</td>\n",
              "      <td>-0.265317</td>\n",
              "      <td>-0.235676</td>\n",
              "      <td>0.934623</td>\n",
              "      <td>-1.171412</td>\n",
              "      <td>-1.028924</td>\n",
              "    </tr>\n",
              "    <tr>\n",
              "      <th>...</th>\n",
              "      <td>...</td>\n",
              "      <td>...</td>\n",
              "      <td>...</td>\n",
              "      <td>...</td>\n",
              "      <td>...</td>\n",
              "      <td>...</td>\n",
              "      <td>...</td>\n",
              "      <td>...</td>\n",
              "      <td>...</td>\n",
              "      <td>...</td>\n",
              "      <td>...</td>\n",
              "      <td>...</td>\n",
              "      <td>...</td>\n",
              "    </tr>\n",
              "    <tr>\n",
              "      <th>7818</th>\n",
              "      <td>1.689423</td>\n",
              "      <td>-0.737504</td>\n",
              "      <td>0.622444</td>\n",
              "      <td>-1.176619</td>\n",
              "      <td>-0.154767</td>\n",
              "      <td>-0.329239</td>\n",
              "      <td>-0.278040</td>\n",
              "      <td>-0.284910</td>\n",
              "      <td>-0.266208</td>\n",
              "      <td>-0.267088</td>\n",
              "      <td>0.372887</td>\n",
              "      <td>1.418863</td>\n",
              "      <td>0.971889</td>\n",
              "    </tr>\n",
              "    <tr>\n",
              "      <th>7819</th>\n",
              "      <td>-0.822954</td>\n",
              "      <td>-0.737504</td>\n",
              "      <td>0.622444</td>\n",
              "      <td>1.059174</td>\n",
              "      <td>-0.154767</td>\n",
              "      <td>-0.329239</td>\n",
              "      <td>-0.278040</td>\n",
              "      <td>0.973445</td>\n",
              "      <td>-0.210982</td>\n",
              "      <td>-0.264316</td>\n",
              "      <td>0.934623</td>\n",
              "      <td>-0.281623</td>\n",
              "      <td>0.971889</td>\n",
              "    </tr>\n",
              "    <tr>\n",
              "      <th>7820</th>\n",
              "      <td>1.689423</td>\n",
              "      <td>1.355926</td>\n",
              "      <td>0.622444</td>\n",
              "      <td>1.827728</td>\n",
              "      <td>-0.154767</td>\n",
              "      <td>-0.329239</td>\n",
              "      <td>-0.278040</td>\n",
              "      <td>-0.284910</td>\n",
              "      <td>-0.266208</td>\n",
              "      <td>-0.267088</td>\n",
              "      <td>0.372887</td>\n",
              "      <td>2.314584</td>\n",
              "      <td>-1.028924</td>\n",
              "    </tr>\n",
              "    <tr>\n",
              "      <th>7821</th>\n",
              "      <td>-0.822954</td>\n",
              "      <td>-0.737504</td>\n",
              "      <td>0.622444</td>\n",
              "      <td>-0.967013</td>\n",
              "      <td>-0.154767</td>\n",
              "      <td>-0.329239</td>\n",
              "      <td>0.244901</td>\n",
              "      <td>-0.076876</td>\n",
              "      <td>-0.266208</td>\n",
              "      <td>-0.248610</td>\n",
              "      <td>-0.188849</td>\n",
              "      <td>-0.688948</td>\n",
              "      <td>-1.028924</td>\n",
              "    </tr>\n",
              "    <tr>\n",
              "      <th>7822</th>\n",
              "      <td>0.433235</td>\n",
              "      <td>1.355926</td>\n",
              "      <td>-1.829409</td>\n",
              "      <td>1.129042</td>\n",
              "      <td>-0.154767</td>\n",
              "      <td>-0.329239</td>\n",
              "      <td>-0.278040</td>\n",
              "      <td>-0.284910</td>\n",
              "      <td>-0.266208</td>\n",
              "      <td>-0.267088</td>\n",
              "      <td>-1.874058</td>\n",
              "      <td>-0.655334</td>\n",
              "      <td>-1.028924</td>\n",
              "    </tr>\n",
              "  </tbody>\n",
              "</table>\n",
              "<p>7823 rows × 13 columns</p>\n",
              "</div>"
            ],
            "text/plain": [
              "      HomePlanet  CryoSleep  Destination       Age       VIP  RoomService  \\\n",
              "0       0.433235  -0.737504     0.622444  1.967465 -0.154767    -0.329239   \n",
              "1       1.689423   1.355926     0.622444 -0.757408 -0.154767    -0.329239   \n",
              "2       0.433235   1.355926     0.622444  0.290620 -0.154767    -0.329239   \n",
              "3      -0.822954  -0.737504     0.622444  0.989305 -0.154767    -0.118291   \n",
              "4      -0.822954  -0.737504     0.622444 -0.687539 -0.154767    -0.329239   \n",
              "...          ...        ...          ...       ...       ...          ...   \n",
              "7818    1.689423  -0.737504     0.622444 -1.176619 -0.154767    -0.329239   \n",
              "7819   -0.822954  -0.737504     0.622444  1.059174 -0.154767    -0.329239   \n",
              "7820    1.689423   1.355926     0.622444  1.827728 -0.154767    -0.329239   \n",
              "7821   -0.822954  -0.737504     0.622444 -0.967013 -0.154767    -0.329239   \n",
              "7822    0.433235   1.355926    -1.829409  1.129042 -0.154767    -0.329239   \n",
              "\n",
              "      FoodCourt  ShoppingMall       Spa    VRDeck      Deck       Num  \\\n",
              "0      2.124377     -0.262923 -0.092514  3.312022 -1.312321 -0.945999   \n",
              "1     -0.278040     -0.284910 -0.266208 -0.267088  0.372887 -0.940067   \n",
              "2     -0.278040     -0.284910 -0.266208 -0.267088 -1.874058 -0.510990   \n",
              "3      0.473999     -0.284910 -0.266208 -0.078616  0.372887  1.618572   \n",
              "4     -0.278040      0.848286 -0.265317 -0.235676  0.934623 -1.171412   \n",
              "...         ...           ...       ...       ...       ...       ...   \n",
              "7818  -0.278040     -0.284910 -0.266208 -0.267088  0.372887  1.418863   \n",
              "7819  -0.278040      0.973445 -0.210982 -0.264316  0.934623 -0.281623   \n",
              "7820  -0.278040     -0.284910 -0.266208 -0.267088  0.372887  2.314584   \n",
              "7821   0.244901     -0.076876 -0.266208 -0.248610 -0.188849 -0.688948   \n",
              "7822  -0.278040     -0.284910 -0.266208 -0.267088 -1.874058 -0.655334   \n",
              "\n",
              "          Side  \n",
              "0    -1.028924  \n",
              "1     0.971889  \n",
              "2     0.971889  \n",
              "3    -1.028924  \n",
              "4    -1.028924  \n",
              "...        ...  \n",
              "7818  0.971889  \n",
              "7819  0.971889  \n",
              "7820 -1.028924  \n",
              "7821 -1.028924  \n",
              "7822 -1.028924  \n",
              "\n",
              "[7823 rows x 13 columns]"
            ]
          },
          "execution_count": 21,
          "metadata": {},
          "output_type": "execute_result"
        }
      ],
      "source": [
        "# Escalamos los datos\n",
        "x_names = X.columns\n",
        "X = StandardScaler().fit_transform(X)\n",
        "\n",
        "X = pd.DataFrame(X, columns=x_names)\n",
        "X"
      ]
    },
    {
      "cell_type": "markdown",
      "metadata": {
        "id": "Jf52IUtuuyJr"
      },
      "source": [
        "## 4. Entrenamiento y test"
      ]
    },
    {
      "cell_type": "code",
      "execution_count": null,
      "metadata": {
        "id": "ldwuQOmWw6az"
      },
      "outputs": [],
      "source": [
        "# division entranamiento y test\n",
        "x_train, x_test, y_train, y_test = train_test_split(X, y, train_size=0.8, random_state = 8)"
      ]
    },
    {
      "cell_type": "code",
      "execution_count": null,
      "metadata": {
        "id": "3rkZutvHuyJs",
        "outputId": "8d647190-de5b-4c83-cad7-aa260109bfd0"
      },
      "outputs": [
        {
          "data": {
            "text/plain": [
              "((6258, 13), (6258,))"
            ]
          },
          "execution_count": 23,
          "metadata": {},
          "output_type": "execute_result"
        }
      ],
      "source": [
        "x_train.shape, y_train.shape"
      ]
    },
    {
      "cell_type": "code",
      "execution_count": null,
      "metadata": {
        "id": "jsL1TN9VuyJs",
        "outputId": "1ac62e79-4afa-4ab0-94f0-c1875619679f"
      },
      "outputs": [
        {
          "data": {
            "text/plain": [
              "((1565, 13), (1565,))"
            ]
          },
          "execution_count": 24,
          "metadata": {},
          "output_type": "execute_result"
        }
      ],
      "source": [
        "x_test.shape, y_test.shape"
      ]
    },
    {
      "cell_type": "markdown",
      "metadata": {
        "id": "wPMSA3gSw6az"
      },
      "source": [
        "## 5. Planteo modelos\n"
      ]
    },
    {
      "cell_type": "markdown",
      "metadata": {
        "id": "Srv0hN6i6u4S"
      },
      "source": [
        "### 1. Decission Tree Classifier"
      ]
    },
    {
      "cell_type": "code",
      "execution_count": null,
      "metadata": {
        "id": "kfDZVg8nw6a0",
        "outputId": "c6cd4435-6d83-4338-e0bb-4d3a6dbf58f9"
      },
      "outputs": [
        {
          "name": "stdout",
          "output_type": "stream",
          "text": [
            "Árbol de decisión\n",
            "Accuracy train Árbol de decisión: 99.94%\n",
            "Accuracy test {name}: 73.74%\n"
          ]
        }
      ],
      "source": [
        "clfs = [DecisionTreeClassifier(random_state = 1)]\n",
        "names = ['Árbol de decisión']\n",
        "\n",
        "trained_models = []\n",
        "accuracy_models = []\n",
        "for clf,name in zip(clfs,names):\n",
        "    print(name)\n",
        "    clf.fit(x_train, y_train)\n",
        "    train_predictions = clf.predict(x_train)\n",
        "    accuracy = accuracy_score(y_train, train_predictions)\n",
        "    print(f\"Accuracy train {name}: %.2f%%\" % (accuracy * 100.0))\n",
        "\n",
        "    train_predictions = clf.predict(x_test)\n",
        "    accuracy = accuracy_score(y_test, train_predictions)\n",
        "    print(\"Accuracy test {name}: %.2f%%\" % (accuracy * 100.0))\n",
        "    # plot_confusion_matrix(clf,x_test,y_test)\n",
        "    trained_models.append(clf)\n",
        "    accuracy_models.append(accuracy*100)"
      ]
    },
    {
      "cell_type": "markdown",
      "metadata": {
        "id": "dzUxmuT1w6a0"
      },
      "source": [
        "#### Algún tipo de ajuste de hiperparámetros de los modelos elegidos"
      ]
    },
    {
      "cell_type": "code",
      "execution_count": null,
      "metadata": {
        "id": "nlLMU1ldw6a0",
        "outputId": "07aa8596-2348-4b1c-f624-11330c38e488"
      },
      "outputs": [
        {
          "data": {
            "text/plain": [
              "{'criterion': 'entropy', 'max_depth': 10, 'splitter': 'best'}"
            ]
          },
          "execution_count": 26,
          "metadata": {},
          "output_type": "execute_result"
        }
      ],
      "source": [
        "grid = GridSearchCV(DecisionTreeClassifier(random_state = 1),\n",
        " {'criterion':('gini','entropy'),\n",
        " 'splitter':(\"best\",\"random\"),\n",
        " 'max_depth':(10,20,100)})\n",
        "grid.fit(x_train,y_train)\n",
        "grid.best_params_\n"
      ]
    },
    {
      "cell_type": "code",
      "execution_count": null,
      "metadata": {
        "id": "u-rjKbLiw6a0",
        "outputId": "fdbc4d6b-08a3-4f74-97d3-13e32cfdb941"
      },
      "outputs": [
        {
          "name": "stdout",
          "output_type": "stream",
          "text": [
            "Accuracy train Arbol de decisión: 83.99%\n",
            "Accuracy test Arbol de decisión: 77.70%\n"
          ]
        },
        {
          "data": {
            "image/png": "[encoded data removed]",
            "text/plain": [
              "<Figure size 432x288 with 2 Axes>"
            ]
          },
          "metadata": {
            "needs_background": "light"
          },
          "output_type": "display_data"
        },
        {
          "name": "stdout",
          "output_type": "stream",
          "text": [
            "              precision    recall  f1-score   support\n",
            "\n",
            "           0       0.75      0.80      0.77       748\n",
            "           1       0.80      0.76      0.78       817\n",
            "\n",
            "    accuracy                           0.78      1565\n",
            "   macro avg       0.78      0.78      0.78      1565\n",
            "weighted avg       0.78      0.78      0.78      1565\n",
            "\n"
          ]
        }
      ],
      "source": [
        "clf = DecisionTreeClassifier(**grid.best_params_).fit(x_train, y_train)\n",
        "\n",
        "train_predictions = clf.predict(x_train)\n",
        "accuracy = accuracy_score(y_train, train_predictions)\n",
        "print(\"Accuracy train Arbol de decisión: %.2f%%\" % (accuracy * 100.0))\n",
        "\n",
        "test_predictions = clf.predict(x_test)\n",
        "accuracy = accuracy_score(y_test, test_predictions)\n",
        "print(\"Accuracy test Arbol de decisión: %.2f%%\" % (accuracy * 100.0))\n",
        "ConfusionMatrixDisplay.from_predictions(y_test, test_predictions)\n",
        "plt.show()\n",
        "\n",
        "print(classification_report(y_test,clf.predict(x_test)))"
      ]
    },
    {
      "cell_type": "code",
      "execution_count": null,
      "metadata": {
        "id": "0E80F3L4w6a0",
        "outputId": "a3fe1624-aeab-4893-f398-e676fe3e8969"
      },
      "outputs": [
        {
          "name": "stdout",
          "output_type": "stream",
          "text": [
            "DecisionTreeClassifier(criterion='entropy', max_depth=10)\n",
            "Precisión test fold 0: 75.16\n",
            "Precisión test fold 1: 76.76\n",
            "Precisión test fold 2: 77.48\n",
            "Precisión test fold 3: 76.82\n",
            "Precisión test fold 4: 74.82\n",
            "Avg. accuracy = 76.20633205895346\n"
          ]
        }
      ],
      "source": [
        "FOLDS=5\n",
        "cv = StratifiedKFold(n_splits=FOLDS, shuffle=True, random_state=10)\n",
        "\n",
        "x_train2 = np.array(x_train)\n",
        "y_train2 = np.array(y_train)\n",
        "\n",
        "\n",
        "for clfi, name in zip([DecisionTreeClassifier(**grid.best_params_)],names):\n",
        "    print(clfi)\n",
        "    avg_accuracy = 0\n",
        "    for fold, (train_idx, val_idx) in enumerate(cv.split(x_train2, y_train2)):\n",
        "        xi, yi = x_train2[train_idx], y_train2[train_idx]\n",
        "        x_valid, y_valid = x_train2[val_idx], y_train2[val_idx]\n",
        "        clfi = clfi.fit(xi, yi)\n",
        "\n",
        "        test_predictions = clfi.predict(x_valid)\n",
        "        accuracy = accuracy_score(y_valid, test_predictions)\n",
        "        avg_accuracy +=accuracy\n",
        "        print(f\"Precisión test fold {fold}: {accuracy * 100.0 :.2f}\" % ())\n",
        "\n",
        "    avg_accuracy /= FOLDS\n",
        "    print(f'Avg. accuracy = {avg_accuracy * 100}')"
      ]
    },
    {
      "cell_type": "markdown",
      "metadata": {
        "id": "knJr3U6-w6a1"
      },
      "source": [
        "### 2. RandomForest"
      ]
    },
    {
      "cell_type": "code",
      "execution_count": null,
      "metadata": {
        "id": "SbqgLtvf6u4T",
        "outputId": "b9ec81d3-de5a-499e-df4f-6ec9e6c9362c"
      },
      "outputs": [
        {
          "data": {
            "text/html": [
              "<style>#sk-container-id-1 {color: black;background-color: white;}#sk-container-id-1 pre{padding: 0;}#sk-container-id-1 div.sk-toggleable {background-color: white;}#sk-container-id-1 label.sk-toggleable__label {cursor: pointer;display: block;width: 100%;margin-bottom: 0;padding: 0.3em;box-sizing: border-box;text-align: center;}#sk-container-id-1 label.sk-toggleable__label-arrow:before {content: \"▸\";float: left;margin-right: 0.25em;color: #696969;}#sk-container-id-1 label.sk-toggleable__label-arrow:hover:before {color: black;}#sk-container-id-1 div.sk-estimator:hover label.sk-toggleable__label-arrow:before {color: black;}#sk-container-id-1 div.sk-toggleable__content {max-height: 0;max-width: 0;overflow: hidden;text-align: left;background-color: #f0f8ff;}#sk-container-id-1 div.sk-toggleable__content pre {margin: 0.2em;color: black;border-radius: 0.25em;background-color: #f0f8ff;}#sk-container-id-1 input.sk-toggleable__control:checked~div.sk-toggleable__content {max-height: 200px;max-width: 100%;overflow: auto;}#sk-container-id-1 input.sk-toggleable__control:checked~label.sk-toggleable__label-arrow:before {content: \"▾\";}#sk-container-id-1 div.sk-estimator input.sk-toggleable__control:checked~label.sk-toggleable__label {background-color: #d4ebff;}#sk-container-id-1 div.sk-label input.sk-toggleable__control:checked~label.sk-toggleable__label {background-color: #d4ebff;}#sk-container-id-1 input.sk-hidden--visually {border: 0;clip: rect(1px 1px 1px 1px);clip: rect(1px, 1px, 1px, 1px);height: 1px;margin: -1px;overflow: hidden;padding: 0;position: absolute;width: 1px;}#sk-container-id-1 div.sk-estimator {font-family: monospace;background-color: #f0f8ff;border: 1px dotted black;border-radius: 0.25em;box-sizing: border-box;margin-bottom: 0.5em;}#sk-container-id-1 div.sk-estimator:hover {background-color: #d4ebff;}#sk-container-id-1 div.sk-parallel-item::after {content: \"\";width: 100%;border-bottom: 1px solid gray;flex-grow: 1;}#sk-container-id-1 div.sk-label:hover label.sk-toggleable__label {background-color: #d4ebff;}#sk-container-id-1 div.sk-serial::before {content: \"\";position: absolute;border-left: 1px solid gray;box-sizing: border-box;top: 0;bottom: 0;left: 50%;z-index: 0;}#sk-container-id-1 div.sk-serial {display: flex;flex-direction: column;align-items: center;background-color: white;padding-right: 0.2em;padding-left: 0.2em;position: relative;}#sk-container-id-1 div.sk-item {position: relative;z-index: 1;}#sk-container-id-1 div.sk-parallel {display: flex;align-items: stretch;justify-content: center;background-color: white;position: relative;}#sk-container-id-1 div.sk-item::before, #sk-container-id-1 div.sk-parallel-item::before {content: \"\";position: absolute;border-left: 1px solid gray;box-sizing: border-box;top: 0;bottom: 0;left: 50%;z-index: -1;}#sk-container-id-1 div.sk-parallel-item {display: flex;flex-direction: column;z-index: 1;position: relative;background-color: white;}#sk-container-id-1 div.sk-parallel-item:first-child::after {align-self: flex-end;width: 50%;}#sk-container-id-1 div.sk-parallel-item:last-child::after {align-self: flex-start;width: 50%;}#sk-container-id-1 div.sk-parallel-item:only-child::after {width: 0;}#sk-container-id-1 div.sk-dashed-wrapped {border: 1px dashed gray;margin: 0 0.4em 0.5em 0.4em;box-sizing: border-box;padding-bottom: 0.4em;background-color: white;}#sk-container-id-1 div.sk-label label {font-family: monospace;font-weight: bold;display: inline-block;line-height: 1.2em;}#sk-container-id-1 div.sk-label-container {text-align: center;}#sk-container-id-1 div.sk-container {/* jupyter's `normalize.less` sets `[hidden] { display: none; }` but bootstrap.min.css set `[hidden] { display: none !important; }` so we also need the `!important` here to be able to override the default hidden behavior on the sphinx rendered scikit-learn.org. See: https://github.com/scikit-learn/scikit-learn/issues/21755 */display: inline-block !important;position: relative;}#sk-container-id-1 div.sk-text-repr-fallback {display: none;}</style><div id=\"sk-container-id-1\" class=\"sk-top-container\"><div class=\"sk-text-repr-fallback\"><pre>RandomForestClassifier(random_state=1)</pre><b>In a Jupyter environment, please rerun this cell to show the HTML representation or trust the notebook. <br />On GitHub, the HTML representation is unable to render, please try loading this page with nbviewer.org.</b></div><div class=\"sk-container\" hidden><div class=\"sk-item\"><div class=\"sk-estimator sk-toggleable\"><input class=\"sk-toggleable__control sk-hidden--visually\" id=\"sk-estimator-id-1\" type=\"checkbox\" checked><label for=\"sk-estimator-id-1\" class=\"sk-toggleable__label sk-toggleable__label-arrow\">RandomForestClassifier</label><div class=\"sk-toggleable__content\"><pre>RandomForestClassifier(random_state=1)</pre></div></div></div></div></div>"
            ],
            "text/plain": [
              "RandomForestClassifier(random_state=1)"
            ]
          },
          "execution_count": 30,
          "metadata": {},
          "output_type": "execute_result"
        }
      ],
      "source": [
        "from sklearn.ensemble import RandomForestClassifier\n",
        "clf = RandomForestClassifier(random_state = 1)\n",
        "clf.fit(x_train, y_train)"
      ]
    },
    {
      "cell_type": "code",
      "execution_count": null,
      "metadata": {
        "id": "QZD9t4ec6u4T",
        "outputId": "7d32bd8a-4666-4d46-b7f2-e221dfaf6e82"
      },
      "outputs": [
        {
          "name": "stdout",
          "output_type": "stream",
          "text": [
            "Accuracy train Random Forest: 99.92%\n",
            "Accuracy test Random Forest: 80.19%\n"
          ]
        },
        {
          "data": {
            "image/png": "[encoded data removed]",
            "text/plain": [
              "<Figure size 432x288 with 2 Axes>"
            ]
          },
          "metadata": {
            "needs_background": "light"
          },
          "output_type": "display_data"
        },
        {
          "name": "stdout",
          "output_type": "stream",
          "text": [
            "              precision    recall  f1-score   support\n",
            "\n",
            "           0       0.77      0.83      0.80       748\n",
            "           1       0.84      0.77      0.80       817\n",
            "\n",
            "    accuracy                           0.80      1565\n",
            "   macro avg       0.80      0.80      0.80      1565\n",
            "weighted avg       0.80      0.80      0.80      1565\n",
            "\n"
          ]
        }
      ],
      "source": [
        "train_predictions = clf.predict(x_train)\n",
        "accuracy = accuracy_score(y_train, train_predictions)\n",
        "print(\"Accuracy train Random Forest: %.2f%%\" % (accuracy * 100.0))\n",
        "\n",
        "test_predictions = clf.predict(x_test)\n",
        "accuracy = accuracy_score(y_test, test_predictions)\n",
        "print(\"Accuracy test Random Forest: %.2f%%\" % (accuracy * 100.0))\n",
        "ConfusionMatrixDisplay.from_predictions(y_test, test_predictions)\n",
        "plt.show()\n",
        "\n",
        "print(classification_report(y_test,clf.predict(x_test)))"
      ]
    },
    {
      "cell_type": "code",
      "execution_count": null,
      "metadata": {
        "id": "uGfMp1kqw6a1",
        "outputId": "70dc7b94-7aa2-468e-9865-5317185712ed"
      },
      "outputs": [
        {
          "data": {
            "text/plain": [
              "{'criterion': 'entropy', 'max_depth': 10, 'max_features': 'sqrt'}"
            ]
          },
          "execution_count": 33,
          "metadata": {},
          "output_type": "execute_result"
        }
      ],
      "source": [
        "grid = GridSearchCV(RandomForestClassifier(random_state = 1),\n",
        " {'criterion':('gini','entropy','log_loss'),\n",
        "  'max_depth':(10,20,100),\n",
        " 'max_features': ('sqrt', 'log2', None)})\n",
        "\n",
        "grid.fit(x_train,y_train)\n",
        "\n",
        "grid.best_params_"
      ]
    },
    {
      "cell_type": "code",
      "execution_count": null,
      "metadata": {
        "id": "dQxx9HpHw6a2",
        "outputId": "d069a28f-4f8c-4743-80ce-62f639535a97"
      },
      "outputs": [
        {
          "name": "stdout",
          "output_type": "stream",
          "text": [
            "Accuracy train Random Forest: 86.80%\n",
            "Accuracy test Random Forest: 80.38%\n"
          ]
        },
        {
          "data": {
            "image/png": "[encoded data removed]",
            "text/plain": [
              "<Figure size 432x288 with 2 Axes>"
            ]
          },
          "metadata": {
            "needs_background": "light"
          },
          "output_type": "display_data"
        },
        {
          "name": "stdout",
          "output_type": "stream",
          "text": [
            "              precision    recall  f1-score   support\n",
            "\n",
            "           0       0.79      0.80      0.80       748\n",
            "           1       0.81      0.81      0.81       817\n",
            "\n",
            "    accuracy                           0.80      1565\n",
            "   macro avg       0.80      0.80      0.80      1565\n",
            "weighted avg       0.80      0.80      0.80      1565\n",
            "\n"
          ]
        }
      ],
      "source": [
        "clf = RandomForestClassifier(**grid.best_params_).fit(x_train, y_train)\n",
        "\n",
        "train_predictions = clf.predict(x_train)\n",
        "accuracy = accuracy_score(y_train, train_predictions)\n",
        "print(\"Accuracy train Random Forest: %.2f%%\" % (accuracy * 100.0))\n",
        "\n",
        "test_predictions = clf.predict(x_test)\n",
        "accuracy = accuracy_score(y_test, test_predictions)\n",
        "print(\"Accuracy test Random Forest: %.2f%%\" % (accuracy * 100.0))\n",
        "ConfusionMatrixDisplay.from_predictions(y_test, test_predictions)\n",
        "plt.show()\n",
        "\n",
        "print(classification_report(y_test,clf.predict(x_test)))"
      ]
    },
    {
      "cell_type": "markdown",
      "metadata": {
        "id": "bZWiPgV0w6a2"
      },
      "source": [
        "### 3. XGboost"
      ]
    },
    {
      "cell_type": "code",
      "execution_count": null,
      "metadata": {
        "id": "QILKrgMQw6a2"
      },
      "outputs": [],
      "source": [
        "import xgboost as xgb\n",
        "\n",
        "\n",
        "gbm = xgb.XGBClassifier(random_state = 1).fit(x_train, y_train)"
      ]
    },
    {
      "cell_type": "code",
      "execution_count": null,
      "metadata": {
        "id": "zLLPOClyw6a3",
        "outputId": "9e667879-7f87-423c-a026-ccf804c901ad"
      },
      "outputs": [
        {
          "name": "stdout",
          "output_type": "stream",
          "text": [
            "Accuracy train XGboost: 93.40%\n",
            "Accuracy test XGboost: 80.19%\n"
          ]
        },
        {
          "data": {
            "image/png": "[encoded data removed]",
            "text/plain": [
              "<Figure size 432x288 with 2 Axes>"
            ]
          },
          "metadata": {
            "needs_background": "light"
          },
          "output_type": "display_data"
        },
        {
          "name": "stdout",
          "output_type": "stream",
          "text": [
            "              precision    recall  f1-score   support\n",
            "\n",
            "           0       0.79      0.80      0.80       748\n",
            "           1       0.81      0.81      0.81       817\n",
            "\n",
            "    accuracy                           0.80      1565\n",
            "   macro avg       0.80      0.80      0.80      1565\n",
            "weighted avg       0.80      0.80      0.80      1565\n",
            "\n"
          ]
        }
      ],
      "source": [
        "train_predictions = gbm.predict(x_train)\n",
        "accuracy = accuracy_score(y_train, train_predictions)\n",
        "print(\"Accuracy train XGboost: %.2f%%\" % (accuracy * 100.0))\n",
        "\n",
        "test_predictions = gbm.predict(x_test)\n",
        "accuracy = accuracy_score(y_test, test_predictions)\n",
        "print(\"Accuracy test XGboost: %.2f%%\" % (accuracy * 100.0))\n",
        "ConfusionMatrixDisplay.from_predictions(y_test, test_predictions)\n",
        "plt.show()\n",
        "\n",
        "print(classification_report(y_test,clf.predict(x_test)))"
      ]
    },
    {
      "cell_type": "code",
      "execution_count": null,
      "metadata": {
        "id": "LKVPcrE1w6a3",
        "outputId": "8260de20-3d71-46b0-8270-bc543395c194"
      },
      "outputs": [
        {
          "data": {
            "text/plain": [
              "{'learning_rate': 0.1, 'max_depth': 4}"
            ]
          },
          "execution_count": 37,
          "metadata": {},
          "output_type": "execute_result"
        }
      ],
      "source": [
        "# cambiamos los parmetrso\n",
        "grid = GridSearchCV(xgb.XGBClassifier(random_state = 1),\n",
        " {'learning_rate': (0.001, 0.01, 0.1),\n",
        "  'max_depth' : (4, 10, 20)\n",
        " })\n",
        "\n",
        "grid.fit(x_train,y_train)\n",
        "\n",
        "grid.best_params_\n"
      ]
    },
    {
      "cell_type": "code",
      "execution_count": null,
      "metadata": {
        "id": "ibf4DCZiw6a3",
        "outputId": "79109a0d-5dcd-4164-9195-705bdf5e2887"
      },
      "outputs": [
        {
          "name": "stdout",
          "output_type": "stream",
          "text": [
            "Accuracy train XGBoost: 83.51%\n",
            "Accuracy test XGBOost: 80.83%\n"
          ]
        },
        {
          "data": {
            "image/png": "[encoded data removed]",
            "text/plain": [
              "<Figure size 432x288 with 2 Axes>"
            ]
          },
          "metadata": {
            "needs_background": "light"
          },
          "output_type": "display_data"
        },
        {
          "name": "stdout",
          "output_type": "stream",
          "text": [
            "              precision    recall  f1-score   support\n",
            "\n",
            "           0       0.79      0.80      0.80       748\n",
            "           1       0.81      0.81      0.81       817\n",
            "\n",
            "    accuracy                           0.80      1565\n",
            "   macro avg       0.80      0.80      0.80      1565\n",
            "weighted avg       0.80      0.80      0.80      1565\n",
            "\n"
          ]
        }
      ],
      "source": [
        "train_predictions = grid.predict(x_train)\n",
        "accuracy = accuracy_score(y_train, train_predictions)\n",
        "print(\"Accuracy train XGBoost: %.2f%%\" % (accuracy * 100.0))\n",
        "\n",
        "test_predictions = grid.predict(x_test)\n",
        "accuracy = accuracy_score(y_test, test_predictions)\n",
        "print(\"Accuracy test XGBOost: %.2f%%\" % (accuracy * 100.0))\n",
        "ConfusionMatrixDisplay.from_predictions(y_test, test_predictions)\n",
        "plt.show()\n",
        "\n",
        "print(classification_report(y_test,clf.predict(x_test)))"
      ]
    },
    {
      "cell_type": "markdown",
      "metadata": {
        "id": "rDmsI4LW6u4Z"
      },
      "source": [
        "### 4. Support Vector Machine"
      ]
    },
    {
      "cell_type": "code",
      "execution_count": null,
      "metadata": {
        "id": "uswhr_e_6u4Z",
        "outputId": "5c5c84dd-60f7-44af-bd17-569d33c4e983"
      },
      "outputs": [
        {
          "data": {
            "text/html": [
              "<style>#sk-container-id-3 {color: black;background-color: white;}#sk-container-id-3 pre{padding: 0;}#sk-container-id-3 div.sk-toggleable {background-color: white;}#sk-container-id-3 label.sk-toggleable__label {cursor: pointer;display: block;width: 100%;margin-bottom: 0;padding: 0.3em;box-sizing: border-box;text-align: center;}#sk-container-id-3 label.sk-toggleable__label-arrow:before {content: \"▸\";float: left;margin-right: 0.25em;color: #696969;}#sk-container-id-3 label.sk-toggleable__label-arrow:hover:before {color: black;}#sk-container-id-3 div.sk-estimator:hover label.sk-toggleable__label-arrow:before {color: black;}#sk-container-id-3 div.sk-toggleable__content {max-height: 0;max-width: 0;overflow: hidden;text-align: left;background-color: #f0f8ff;}#sk-container-id-3 div.sk-toggleable__content pre {margin: 0.2em;color: black;border-radius: 0.25em;background-color: #f0f8ff;}#sk-container-id-3 input.sk-toggleable__control:checked~div.sk-toggleable__content {max-height: 200px;max-width: 100%;overflow: auto;}#sk-container-id-3 input.sk-toggleable__control:checked~label.sk-toggleable__label-arrow:before {content: \"▾\";}#sk-container-id-3 div.sk-estimator input.sk-toggleable__control:checked~label.sk-toggleable__label {background-color: #d4ebff;}#sk-container-id-3 div.sk-label input.sk-toggleable__control:checked~label.sk-toggleable__label {background-color: #d4ebff;}#sk-container-id-3 input.sk-hidden--visually {border: 0;clip: rect(1px 1px 1px 1px);clip: rect(1px, 1px, 1px, 1px);height: 1px;margin: -1px;overflow: hidden;padding: 0;position: absolute;width: 1px;}#sk-container-id-3 div.sk-estimator {font-family: monospace;background-color: #f0f8ff;border: 1px dotted black;border-radius: 0.25em;box-sizing: border-box;margin-bottom: 0.5em;}#sk-container-id-3 div.sk-estimator:hover {background-color: #d4ebff;}#sk-container-id-3 div.sk-parallel-item::after {content: \"\";width: 100%;border-bottom: 1px solid gray;flex-grow: 1;}#sk-container-id-3 div.sk-label:hover label.sk-toggleable__label {background-color: #d4ebff;}#sk-container-id-3 div.sk-serial::before {content: \"\";position: absolute;border-left: 1px solid gray;box-sizing: border-box;top: 0;bottom: 0;left: 50%;z-index: 0;}#sk-container-id-3 div.sk-serial {display: flex;flex-direction: column;align-items: center;background-color: white;padding-right: 0.2em;padding-left: 0.2em;position: relative;}#sk-container-id-3 div.sk-item {position: relative;z-index: 1;}#sk-container-id-3 div.sk-parallel {display: flex;align-items: stretch;justify-content: center;background-color: white;position: relative;}#sk-container-id-3 div.sk-item::before, #sk-container-id-3 div.sk-parallel-item::before {content: \"\";position: absolute;border-left: 1px solid gray;box-sizing: border-box;top: 0;bottom: 0;left: 50%;z-index: -1;}#sk-container-id-3 div.sk-parallel-item {display: flex;flex-direction: column;z-index: 1;position: relative;background-color: white;}#sk-container-id-3 div.sk-parallel-item:first-child::after {align-self: flex-end;width: 50%;}#sk-container-id-3 div.sk-parallel-item:last-child::after {align-self: flex-start;width: 50%;}#sk-container-id-3 div.sk-parallel-item:only-child::after {width: 0;}#sk-container-id-3 div.sk-dashed-wrapped {border: 1px dashed gray;margin: 0 0.4em 0.5em 0.4em;box-sizing: border-box;padding-bottom: 0.4em;background-color: white;}#sk-container-id-3 div.sk-label label {font-family: monospace;font-weight: bold;display: inline-block;line-height: 1.2em;}#sk-container-id-3 div.sk-label-container {text-align: center;}#sk-container-id-3 div.sk-container {/* jupyter's `normalize.less` sets `[hidden] { display: none; }` but bootstrap.min.css set `[hidden] { display: none !important; }` so we also need the `!important` here to be able to override the default hidden behavior on the sphinx rendered scikit-learn.org. See: https://github.com/scikit-learn/scikit-learn/issues/21755 */display: inline-block !important;position: relative;}#sk-container-id-3 div.sk-text-repr-fallback {display: none;}</style><div id=\"sk-container-id-3\" class=\"sk-top-container\"><div class=\"sk-text-repr-fallback\"><pre>SVC(random_state=1)</pre><b>In a Jupyter environment, please rerun this cell to show the HTML representation or trust the notebook. <br />On GitHub, the HTML representation is unable to render, please try loading this page with nbviewer.org.</b></div><div class=\"sk-container\" hidden><div class=\"sk-item\"><div class=\"sk-estimator sk-toggleable\"><input class=\"sk-toggleable__control sk-hidden--visually\" id=\"sk-estimator-id-3\" type=\"checkbox\" checked><label for=\"sk-estimator-id-3\" class=\"sk-toggleable__label sk-toggleable__label-arrow\">SVC</label><div class=\"sk-toggleable__content\"><pre>SVC(random_state=1)</pre></div></div></div></div></div>"
            ],
            "text/plain": [
              "SVC(random_state=1)"
            ]
          },
          "execution_count": 41,
          "metadata": {},
          "output_type": "execute_result"
        }
      ],
      "source": [
        "from sklearn.svm import SVC\n",
        "clf = SVC(random_state = 1) \n",
        "clf.fit(x_train,y_train)"
      ]
    },
    {
      "cell_type": "code",
      "execution_count": null,
      "metadata": {
        "id": "FXsvONFB6u4a",
        "outputId": "4aca97f7-5013-4bb9-9324-d99dd728fa26"
      },
      "outputs": [
        {
          "name": "stdout",
          "output_type": "stream",
          "text": [
            "Accuracy train Support Vector Machine: 81.03%\n",
            "Accuracy test Support Vector Machine: 80.77%\n"
          ]
        },
        {
          "data": {
            "image/png": "[encoded data removed]",
            "text/plain": [
              "<Figure size 432x288 with 2 Axes>"
            ]
          },
          "metadata": {
            "needs_background": "light"
          },
          "output_type": "display_data"
        },
        {
          "name": "stdout",
          "output_type": "stream",
          "text": [
            "              precision    recall  f1-score   support\n",
            "\n",
            "           0       0.80      0.80      0.80       748\n",
            "           1       0.82      0.82      0.82       817\n",
            "\n",
            "    accuracy                           0.81      1565\n",
            "   macro avg       0.81      0.81      0.81      1565\n",
            "weighted avg       0.81      0.81      0.81      1565\n",
            "\n"
          ]
        }
      ],
      "source": [
        "train_predictions = clf.predict(x_train)\n",
        "accuracy = accuracy_score(y_train, train_predictions)\n",
        "print(\"Accuracy train Support Vector Machine: %.2f%%\" % (accuracy * 100.0))\n",
        "\n",
        "test_predictions = clf.predict(x_test)\n",
        "accuracy = accuracy_score(y_test, test_predictions)\n",
        "print(\"Accuracy test Support Vector Machine: %.2f%%\" % (accuracy * 100.0))\n",
        "ConfusionMatrixDisplay.from_predictions(y_test, test_predictions)\n",
        "plt.show()\n",
        "\n",
        "print(classification_report(y_test,clf.predict(x_test)))"
      ]
    },
    {
      "cell_type": "code",
      "execution_count": null,
      "metadata": {
        "id": "apUfovN16u4a",
        "outputId": "d936cf96-f86a-4d50-b331-0448838d128a"
      },
      "outputs": [
        {
          "data": {
            "text/plain": [
              "{'C': 1.0, 'kernel': 'rbf'}"
            ]
          },
          "execution_count": 43,
          "metadata": {},
          "output_type": "execute_result"
        }
      ],
      "source": [
        "# analizamos otros parámetros\n",
        "from sklearn.svm import SVC\n",
        "grid = GridSearchCV(SVC(random_state = 1),\n",
        " {'kernel':('rbf', 'poly','sigmoid'),\n",
        " 'C':(1.0, 10.0)\n",
        " })\n",
        "\n",
        "grid.fit(x_train,y_train)\n",
        "\n",
        "grid.best_params_"
      ]
    },
    {
      "cell_type": "code",
      "execution_count": null,
      "metadata": {
        "id": "l24BIcXT6u4a",
        "outputId": "24c49444-7823-4156-e37a-9fe558ea74c6"
      },
      "outputs": [
        {
          "name": "stdout",
          "output_type": "stream",
          "text": [
            "Accuracy train SVC(kernel = 'rbf': 81.03%\n",
            "Accuracy test SVC(kernel = 'rbf'): 80.77%\n"
          ]
        },
        {
          "data": {
            "image/png": "[encoded data removed]",
            "text/plain": [
              "<Figure size 432x288 with 2 Axes>"
            ]
          },
          "metadata": {
            "needs_background": "light"
          },
          "output_type": "display_data"
        },
        {
          "name": "stdout",
          "output_type": "stream",
          "text": [
            "              precision    recall  f1-score   support\n",
            "\n",
            "           0       0.80      0.80      0.80       748\n",
            "           1       0.82      0.82      0.82       817\n",
            "\n",
            "    accuracy                           0.81      1565\n",
            "   macro avg       0.81      0.81      0.81      1565\n",
            "weighted avg       0.81      0.81      0.81      1565\n",
            "\n"
          ]
        }
      ],
      "source": [
        "train_predictions = grid.predict(x_train)\n",
        "accuracy = accuracy_score(y_train, train_predictions)\n",
        "print(\"Accuracy train SVC(kernel = 'rbf': %.2f%%\" % (accuracy * 100.0))\n",
        "\n",
        "test_predictions = grid.predict(x_test)\n",
        "accuracy = accuracy_score(y_test, test_predictions)\n",
        "print(\"Accuracy test SVC(kernel = 'rbf'): %.2f%%\" % (accuracy * 100.0))\n",
        "ConfusionMatrixDisplay.from_predictions(y_test, test_predictions)\n",
        "plt.show()\n",
        "\n",
        "print(classification_report(y_test,clf.predict(x_test)))"
      ]
    },
    {
      "cell_type": "markdown",
      "metadata": {
        "id": "l14iFqXK6u4b"
      },
      "source": [
        "### Resumen\n",
        "\n",
        "- Accuracy test Árbol de decisión: 73.74%\n",
        "\n",
        "- Accuracy test Arbol de decisión: 77.70% {'criterion': 'entropy', 'max_depth': 10, 'splitter': 'best'}\n",
        "\n",
        "- Accuracy test Arbol de decisión: 76.20% Stratified K fold\n",
        "\n",
        "- Accuracy test Random Forest: 80.19%\n",
        "\n",
        "- Accuracy test Random Forest: 80.38% {'criterion': 'entropy', 'max_depth': 10, 'max_features': 'sqrt'}\n",
        "\n",
        "- Accuracy test XGboost: 80.19%\n",
        "\n",
        "- Accuracy test XGBOost: 80.83% {'learning_rate': 0.1, 'max_depth': 4}\n",
        "\n",
        "- Accuracy test Support Vector Machine: 80.77%\n",
        "\n",
        "- Accuracy test SVC: 80.77% {'C': 1.0, 'kernel': 'rbf'}\n",
        "    \n",
        "    "
      ]
    },
    {
      "cell_type": "markdown",
      "metadata": {
        "id": "DBD7vF8D6u4b"
      },
      "source": [
        "**Decidimos seguir adelante con el modelo de XGBoost ajustando los hiperparámetros de esta manera: {'learning_rate': 0.1, 'max_depth': 4}**"
      ]
    },
    {
      "cell_type": "markdown",
      "metadata": {
        "id": "gU27snCJw6a9"
      },
      "source": [
        "# Trabajamos con los datos de test "
      ]
    },
    {
      "cell_type": "markdown",
      "source": [
        "## 1. Curación de datos"
      ],
      "metadata": {
        "id": "KDd00CU--2QF"
      }
    },
    {
      "cell_type": "code",
      "execution_count": null,
      "metadata": {
        "id": "foS2B0i96u4b"
      },
      "outputs": [],
      "source": [
        "# Mejor modelo\n",
        "final_model = xgb.XGBClassifier(learning_rate = 0.1, max_depth = 4, random_state = 1).fit(x_train, y_train)\n"
      ]
    },
    {
      "cell_type": "code",
      "execution_count": null,
      "metadata": {
        "id": "altOGt3Ww6a9"
      },
      "outputs": [],
      "source": [
        "test_df = pd.read_csv('test.csv')"
      ]
    },
    {
      "cell_type": "code",
      "execution_count": null,
      "metadata": {
        "id": "Qc7fl0Ejw6a9",
        "outputId": "42ede7fa-8895-4f5a-a7bf-b577d5367988"
      },
      "outputs": [
        {
          "data": {
            "text/html": [
              "<div>\n",
              "<style scoped>\n",
              "    .dataframe tbody tr th:only-of-type {\n",
              "        vertical-align: middle;\n",
              "    }\n",
              "\n",
              "    .dataframe tbody tr th {\n",
              "        vertical-align: top;\n",
              "    }\n",
              "\n",
              "    .dataframe thead th {\n",
              "        text-align: right;\n",
              "    }\n",
              "</style>\n",
              "<table border=\"1\" class=\"dataframe\">\n",
              "  <thead>\n",
              "    <tr style=\"text-align: right;\">\n",
              "      <th></th>\n",
              "      <th>PassengerId</th>\n",
              "      <th>HomePlanet</th>\n",
              "      <th>CryoSleep</th>\n",
              "      <th>Cabin</th>\n",
              "      <th>Destination</th>\n",
              "      <th>Age</th>\n",
              "      <th>VIP</th>\n",
              "      <th>RoomService</th>\n",
              "      <th>FoodCourt</th>\n",
              "      <th>ShoppingMall</th>\n",
              "      <th>Spa</th>\n",
              "      <th>VRDeck</th>\n",
              "      <th>Name</th>\n",
              "    </tr>\n",
              "  </thead>\n",
              "  <tbody>\n",
              "    <tr>\n",
              "      <th>0</th>\n",
              "      <td>415</td>\n",
              "      <td>Europa</td>\n",
              "      <td>True</td>\n",
              "      <td>NaN</td>\n",
              "      <td>55 Cancri e</td>\n",
              "      <td>34.0</td>\n",
              "      <td>False</td>\n",
              "      <td>0.0</td>\n",
              "      <td>0.0</td>\n",
              "      <td>0.0</td>\n",
              "      <td>0.0</td>\n",
              "      <td>0.0</td>\n",
              "      <td>Minopus Taptiritty</td>\n",
              "    </tr>\n",
              "    <tr>\n",
              "      <th>1</th>\n",
              "      <td>8663</td>\n",
              "      <td>Earth</td>\n",
              "      <td>True</td>\n",
              "      <td>G/1489/S</td>\n",
              "      <td>PSO J318.5-22</td>\n",
              "      <td>13.0</td>\n",
              "      <td>False</td>\n",
              "      <td>0.0</td>\n",
              "      <td>0.0</td>\n",
              "      <td>0.0</td>\n",
              "      <td>0.0</td>\n",
              "      <td>0.0</td>\n",
              "      <td>Chrisa Francock</td>\n",
              "    </tr>\n",
              "    <tr>\n",
              "      <th>2</th>\n",
              "      <td>4524</td>\n",
              "      <td>Earth</td>\n",
              "      <td>False</td>\n",
              "      <td>G/776/P</td>\n",
              "      <td>TRAPPIST-1e</td>\n",
              "      <td>44.0</td>\n",
              "      <td>False</td>\n",
              "      <td>22.0</td>\n",
              "      <td>1.0</td>\n",
              "      <td>0.0</td>\n",
              "      <td>864.0</td>\n",
              "      <td>0.0</td>\n",
              "      <td>Elinda Miley</td>\n",
              "    </tr>\n",
              "    <tr>\n",
              "      <th>3</th>\n",
              "      <td>8246</td>\n",
              "      <td>Earth</td>\n",
              "      <td>False</td>\n",
              "      <td>E/577/S</td>\n",
              "      <td>PSO J318.5-22</td>\n",
              "      <td>63.0</td>\n",
              "      <td>False</td>\n",
              "      <td>0.0</td>\n",
              "      <td>0.0</td>\n",
              "      <td>80.0</td>\n",
              "      <td>0.0</td>\n",
              "      <td>2322.0</td>\n",
              "      <td>Karley Goods</td>\n",
              "    </tr>\n",
              "    <tr>\n",
              "      <th>4</th>\n",
              "      <td>2935</td>\n",
              "      <td>Europa</td>\n",
              "      <td>False</td>\n",
              "      <td>B/117/S</td>\n",
              "      <td>55 Cancri e</td>\n",
              "      <td>10.0</td>\n",
              "      <td>False</td>\n",
              "      <td>0.0</td>\n",
              "      <td>0.0</td>\n",
              "      <td>0.0</td>\n",
              "      <td>0.0</td>\n",
              "      <td>0.0</td>\n",
              "      <td>Arkard Sechausive</td>\n",
              "    </tr>\n",
              "    <tr>\n",
              "      <th>...</th>\n",
              "      <td>...</td>\n",
              "      <td>...</td>\n",
              "      <td>...</td>\n",
              "      <td>...</td>\n",
              "      <td>...</td>\n",
              "      <td>...</td>\n",
              "      <td>...</td>\n",
              "      <td>...</td>\n",
              "      <td>...</td>\n",
              "      <td>...</td>\n",
              "      <td>...</td>\n",
              "      <td>...</td>\n",
              "      <td>...</td>\n",
              "    </tr>\n",
              "    <tr>\n",
              "      <th>865</th>\n",
              "      <td>5996</td>\n",
              "      <td>Mars</td>\n",
              "      <td>False</td>\n",
              "      <td>F/1212/S</td>\n",
              "      <td>TRAPPIST-1e</td>\n",
              "      <td>54.0</td>\n",
              "      <td>False</td>\n",
              "      <td>676.0</td>\n",
              "      <td>0.0</td>\n",
              "      <td>231.0</td>\n",
              "      <td>379.0</td>\n",
              "      <td>0.0</td>\n",
              "      <td>Anch Perta</td>\n",
              "    </tr>\n",
              "    <tr>\n",
              "      <th>866</th>\n",
              "      <td>5478</td>\n",
              "      <td>Earth</td>\n",
              "      <td>True</td>\n",
              "      <td>G/947/S</td>\n",
              "      <td>TRAPPIST-1e</td>\n",
              "      <td>58.0</td>\n",
              "      <td>False</td>\n",
              "      <td>0.0</td>\n",
              "      <td>0.0</td>\n",
              "      <td>0.0</td>\n",
              "      <td>0.0</td>\n",
              "      <td>0.0</td>\n",
              "      <td>Hughy Hessey</td>\n",
              "    </tr>\n",
              "    <tr>\n",
              "      <th>867</th>\n",
              "      <td>6760</td>\n",
              "      <td>Earth</td>\n",
              "      <td>True</td>\n",
              "      <td>G/1148/P</td>\n",
              "      <td>PSO J318.5-22</td>\n",
              "      <td>18.0</td>\n",
              "      <td>False</td>\n",
              "      <td>0.0</td>\n",
              "      <td>0.0</td>\n",
              "      <td>0.0</td>\n",
              "      <td>0.0</td>\n",
              "      <td>0.0</td>\n",
              "      <td>Heidie Kimpson</td>\n",
              "    </tr>\n",
              "    <tr>\n",
              "      <th>868</th>\n",
              "      <td>1437</td>\n",
              "      <td>Earth</td>\n",
              "      <td>False</td>\n",
              "      <td>F/293/S</td>\n",
              "      <td>TRAPPIST-1e</td>\n",
              "      <td>18.0</td>\n",
              "      <td>False</td>\n",
              "      <td>765.0</td>\n",
              "      <td>0.0</td>\n",
              "      <td>13.0</td>\n",
              "      <td>0.0</td>\n",
              "      <td>0.0</td>\n",
              "      <td>Herina Oconley</td>\n",
              "    </tr>\n",
              "    <tr>\n",
              "      <th>869</th>\n",
              "      <td>5171</td>\n",
              "      <td>Earth</td>\n",
              "      <td>False</td>\n",
              "      <td>F/1059/S</td>\n",
              "      <td>TRAPPIST-1e</td>\n",
              "      <td>20.0</td>\n",
              "      <td>False</td>\n",
              "      <td>0.0</td>\n",
              "      <td>0.0</td>\n",
              "      <td>0.0</td>\n",
              "      <td>703.0</td>\n",
              "      <td>0.0</td>\n",
              "      <td>Ollip Hinglendez</td>\n",
              "    </tr>\n",
              "  </tbody>\n",
              "</table>\n",
              "<p>870 rows × 13 columns</p>\n",
              "</div>"
            ],
            "text/plain": [
              "     PassengerId HomePlanet CryoSleep     Cabin    Destination   Age    VIP  \\\n",
              "0            415     Europa      True       NaN    55 Cancri e  34.0  False   \n",
              "1           8663      Earth      True  G/1489/S  PSO J318.5-22  13.0  False   \n",
              "2           4524      Earth     False   G/776/P    TRAPPIST-1e  44.0  False   \n",
              "3           8246      Earth     False   E/577/S  PSO J318.5-22  63.0  False   \n",
              "4           2935     Europa     False   B/117/S    55 Cancri e  10.0  False   \n",
              "..           ...        ...       ...       ...            ...   ...    ...   \n",
              "865         5996       Mars     False  F/1212/S    TRAPPIST-1e  54.0  False   \n",
              "866         5478      Earth      True   G/947/S    TRAPPIST-1e  58.0  False   \n",
              "867         6760      Earth      True  G/1148/P  PSO J318.5-22  18.0  False   \n",
              "868         1437      Earth     False   F/293/S    TRAPPIST-1e  18.0  False   \n",
              "869         5171      Earth     False  F/1059/S    TRAPPIST-1e  20.0  False   \n",
              "\n",
              "     RoomService  FoodCourt  ShoppingMall    Spa  VRDeck                Name  \n",
              "0            0.0        0.0           0.0    0.0     0.0  Minopus Taptiritty  \n",
              "1            0.0        0.0           0.0    0.0     0.0     Chrisa Francock  \n",
              "2           22.0        1.0           0.0  864.0     0.0        Elinda Miley  \n",
              "3            0.0        0.0          80.0    0.0  2322.0        Karley Goods  \n",
              "4            0.0        0.0           0.0    0.0     0.0   Arkard Sechausive  \n",
              "..           ...        ...           ...    ...     ...                 ...  \n",
              "865        676.0        0.0         231.0  379.0     0.0          Anch Perta  \n",
              "866          0.0        0.0           0.0    0.0     0.0        Hughy Hessey  \n",
              "867          0.0        0.0           0.0    0.0     0.0      Heidie Kimpson  \n",
              "868        765.0        0.0          13.0    0.0     0.0      Herina Oconley  \n",
              "869          0.0        0.0           0.0  703.0     0.0    Ollip Hinglendez  \n",
              "\n",
              "[870 rows x 13 columns]"
            ]
          },
          "execution_count": 75,
          "metadata": {},
          "output_type": "execute_result"
        }
      ],
      "source": [
        "test_df"
      ]
    },
    {
      "cell_type": "code",
      "execution_count": null,
      "metadata": {
        "id": "IJ19Le326u4c",
        "outputId": "359b5a8c-4ed0-419d-fdd6-9537a5e17188"
      },
      "outputs": [
        {
          "data": {
            "text/plain": [
              "0       415\n",
              "1      8663\n",
              "2      4524\n",
              "3      8246\n",
              "4      2935\n",
              "       ... \n",
              "865    5996\n",
              "866    5478\n",
              "867    6760\n",
              "868    1437\n",
              "869    5171\n",
              "Name: PassengerId, Length: 870, dtype: int64"
            ]
          },
          "execution_count": 76,
          "metadata": {},
          "output_type": "execute_result"
        }
      ],
      "source": [
        "PassengerId = test_df.PassengerId\n",
        "PassengerId"
      ]
    },
    {
      "cell_type": "code",
      "execution_count": null,
      "metadata": {
        "outputId": "afefe7a1-9783-4252-8308-6817c68ab264",
        "id": "BZqEOZp06u4c"
      },
      "outputs": [
        {
          "data": {
            "text/plain": [
              "Index(['HomePlanet', 'CryoSleep', 'Cabin', 'Destination', 'Age', 'VIP',\n",
              "       'RoomService', 'FoodCourt', 'ShoppingMall', 'Spa', 'VRDeck'],\n",
              "      dtype='object')"
            ]
          },
          "execution_count": 77,
          "metadata": {},
          "output_type": "execute_result"
        }
      ],
      "source": [
        "# Los atributos 'PassengerID' y 'Nane' no van a tener ninguna importancia para entrenar un modelo de ML.\n",
        "# Por lo tanto decidimos eliminar estas columnas\n",
        "\n",
        "test_df.drop(['PassengerId','Name'], axis=1, inplace=True)\n",
        "test_df.columns"
      ]
    },
    {
      "cell_type": "markdown",
      "metadata": {
        "id": "Z2NAqNP56u4c"
      },
      "source": [
        "### Imputación de datos faltantes"
      ]
    },
    {
      "cell_type": "markdown",
      "metadata": {
        "id": "TepS3kor6u4d"
      },
      "source": [
        "#### Datos Categóricos"
      ]
    },
    {
      "cell_type": "code",
      "execution_count": null,
      "metadata": {
        "outputId": "713d00e5-5085-45b2-f0d9-c5125f5c6e3c",
        "id": "SNWPK3sG6u4d"
      },
      "outputs": [
        {
          "data": {
            "text/plain": [
              "HomePlanet       0\n",
              "CryoSleep        0\n",
              "Cabin            0\n",
              "Destination      0\n",
              "Age             17\n",
              "VIP              0\n",
              "RoomService     27\n",
              "FoodCourt       28\n",
              "ShoppingMall    20\n",
              "Spa             25\n",
              "VRDeck          19\n",
              "dtype: int64"
            ]
          },
          "execution_count": 78,
          "metadata": {},
          "output_type": "execute_result"
        }
      ],
      "source": [
        "# imputamos los datos faltantes categoricos\n",
        "\n",
        "# creamos una copia del último df\n",
        "df_most_frequent_2 = test_df.copy()\n",
        "\n",
        "# creamos una variable que contiene lo nombres de las columnas que queremos imputar\n",
        "categorical_cols = ['HomePlanet', 'CryoSleep', 'Cabin', 'VIP', 'Destination' ]\n",
        "\n",
        " \n",
        "# Vamos a utilizar 'most_frequent' como estrategia de imputación\n",
        "categorical_imputer = SimpleImputer(strategy='most_frequent')\n",
        "df_most_frequent_2[categorical_cols] = categorical_imputer.fit_transform(df_most_frequent_2[categorical_cols])\n",
        "\n",
        "\n",
        "df_most_frequent_2.isna().sum()"
      ]
    },
    {
      "cell_type": "markdown",
      "metadata": {
        "id": "OuccfT9b6u4d"
      },
      "source": [
        "#### Datos Numéricos"
      ]
    },
    {
      "cell_type": "code",
      "execution_count": null,
      "metadata": {
        "id": "Zr7-cVuU6u4d"
      },
      "outputs": [],
      "source": [
        "# imputamos los datos faltantes de los atributos numericos\n",
        "\n",
        "# creamos una variable que contiene los nombres de las columnas que queremos imputar\n",
        "imputer_cols = [\"Age\", \"FoodCourt\", \"ShoppingMall\", \"Spa\", \"VRDeck\" ,\"RoomService\"]\n",
        "\n",
        "\n",
        "# creamos una copia del último df\n",
        "df_4 = df_most_frequent_2.copy()\n",
        "\n",
        "# Vamos a imputar por la mediana\n",
        "imputer = SimpleImputer(strategy=\"median\")\n",
        "df_4[imputer_cols] = imputer.fit_transform(df_4[imputer_cols])"
      ]
    },
    {
      "cell_type": "code",
      "execution_count": null,
      "metadata": {
        "outputId": "ec95ac05-ebcb-45f4-8e64-d901c672f4a6",
        "id": "Fahihz3O6u4e"
      },
      "outputs": [
        {
          "data": {
            "text/plain": [
              "HomePlanet      0\n",
              "CryoSleep       0\n",
              "Cabin           0\n",
              "Destination     0\n",
              "Age             0\n",
              "VIP             0\n",
              "RoomService     0\n",
              "FoodCourt       0\n",
              "ShoppingMall    0\n",
              "Spa             0\n",
              "VRDeck          0\n",
              "dtype: int64"
            ]
          },
          "execution_count": 80,
          "metadata": {},
          "output_type": "execute_result"
        }
      ],
      "source": [
        "df_4.isna().sum()"
      ]
    },
    {
      "cell_type": "markdown",
      "metadata": {
        "id": "hBO7L3Hm6u4e"
      },
      "source": [
        "Con esta úlitma celda confirmamos que después de los pasos de imputación no nos queda ningún atributo que tenga datos faltantes."
      ]
    },
    {
      "cell_type": "markdown",
      "metadata": {
        "id": "wkKT-uJV6u4e"
      },
      "source": [
        "#### Atributo Cabin\n",
        "La columna cabin tiene información que convendría tenerla como atributos separados."
      ]
    },
    {
      "cell_type": "code",
      "execution_count": null,
      "metadata": {
        "outputId": "9acd5d05-ac42-4ea8-b7db-9ac015017fea",
        "id": "Em_PMiS26u4e"
      },
      "outputs": [
        {
          "data": {
            "text/html": [
              "<div>\n",
              "<style scoped>\n",
              "    .dataframe tbody tr th:only-of-type {\n",
              "        vertical-align: middle;\n",
              "    }\n",
              "\n",
              "    .dataframe tbody tr th {\n",
              "        vertical-align: top;\n",
              "    }\n",
              "\n",
              "    .dataframe thead th {\n",
              "        text-align: right;\n",
              "    }\n",
              "</style>\n",
              "<table border=\"1\" class=\"dataframe\">\n",
              "  <thead>\n",
              "    <tr style=\"text-align: right;\">\n",
              "      <th></th>\n",
              "      <th>HomePlanet</th>\n",
              "      <th>CryoSleep</th>\n",
              "      <th>Destination</th>\n",
              "      <th>Age</th>\n",
              "      <th>VIP</th>\n",
              "      <th>RoomService</th>\n",
              "      <th>FoodCourt</th>\n",
              "      <th>ShoppingMall</th>\n",
              "      <th>Spa</th>\n",
              "      <th>VRDeck</th>\n",
              "      <th>Deck</th>\n",
              "      <th>Num</th>\n",
              "      <th>Side</th>\n",
              "    </tr>\n",
              "  </thead>\n",
              "  <tbody>\n",
              "    <tr>\n",
              "      <th>0</th>\n",
              "      <td>Europa</td>\n",
              "      <td>True</td>\n",
              "      <td>55 Cancri e</td>\n",
              "      <td>34.0</td>\n",
              "      <td>False</td>\n",
              "      <td>0.0</td>\n",
              "      <td>0.0</td>\n",
              "      <td>0.0</td>\n",
              "      <td>0.0</td>\n",
              "      <td>0.0</td>\n",
              "      <td>B</td>\n",
              "      <td>121</td>\n",
              "      <td>S</td>\n",
              "    </tr>\n",
              "    <tr>\n",
              "      <th>1</th>\n",
              "      <td>Earth</td>\n",
              "      <td>True</td>\n",
              "      <td>PSO J318.5-22</td>\n",
              "      <td>13.0</td>\n",
              "      <td>False</td>\n",
              "      <td>0.0</td>\n",
              "      <td>0.0</td>\n",
              "      <td>0.0</td>\n",
              "      <td>0.0</td>\n",
              "      <td>0.0</td>\n",
              "      <td>G</td>\n",
              "      <td>1489</td>\n",
              "      <td>S</td>\n",
              "    </tr>\n",
              "    <tr>\n",
              "      <th>2</th>\n",
              "      <td>Earth</td>\n",
              "      <td>False</td>\n",
              "      <td>TRAPPIST-1e</td>\n",
              "      <td>44.0</td>\n",
              "      <td>False</td>\n",
              "      <td>22.0</td>\n",
              "      <td>1.0</td>\n",
              "      <td>0.0</td>\n",
              "      <td>864.0</td>\n",
              "      <td>0.0</td>\n",
              "      <td>G</td>\n",
              "      <td>776</td>\n",
              "      <td>P</td>\n",
              "    </tr>\n",
              "    <tr>\n",
              "      <th>3</th>\n",
              "      <td>Earth</td>\n",
              "      <td>False</td>\n",
              "      <td>PSO J318.5-22</td>\n",
              "      <td>63.0</td>\n",
              "      <td>False</td>\n",
              "      <td>0.0</td>\n",
              "      <td>0.0</td>\n",
              "      <td>80.0</td>\n",
              "      <td>0.0</td>\n",
              "      <td>2322.0</td>\n",
              "      <td>E</td>\n",
              "      <td>577</td>\n",
              "      <td>S</td>\n",
              "    </tr>\n",
              "    <tr>\n",
              "      <th>4</th>\n",
              "      <td>Europa</td>\n",
              "      <td>False</td>\n",
              "      <td>55 Cancri e</td>\n",
              "      <td>10.0</td>\n",
              "      <td>False</td>\n",
              "      <td>0.0</td>\n",
              "      <td>0.0</td>\n",
              "      <td>0.0</td>\n",
              "      <td>0.0</td>\n",
              "      <td>0.0</td>\n",
              "      <td>B</td>\n",
              "      <td>117</td>\n",
              "      <td>S</td>\n",
              "    </tr>\n",
              "  </tbody>\n",
              "</table>\n",
              "</div>"
            ],
            "text/plain": [
              "  HomePlanet CryoSleep    Destination   Age    VIP  RoomService  FoodCourt  \\\n",
              "0     Europa      True    55 Cancri e  34.0  False          0.0        0.0   \n",
              "1      Earth      True  PSO J318.5-22  13.0  False          0.0        0.0   \n",
              "2      Earth     False    TRAPPIST-1e  44.0  False         22.0        1.0   \n",
              "3      Earth     False  PSO J318.5-22  63.0  False          0.0        0.0   \n",
              "4     Europa     False    55 Cancri e  10.0  False          0.0        0.0   \n",
              "\n",
              "   ShoppingMall    Spa  VRDeck Deck   Num Side  \n",
              "0           0.0    0.0     0.0    B   121    S  \n",
              "1           0.0    0.0     0.0    G  1489    S  \n",
              "2           0.0  864.0     0.0    G   776    P  \n",
              "3          80.0    0.0  2322.0    E   577    S  \n",
              "4           0.0    0.0     0.0    B   117    S  "
            ]
          },
          "execution_count": 81,
          "metadata": {},
          "output_type": "execute_result"
        }
      ],
      "source": [
        "# dividimos la columna Cabin en 3 columnas separndo por el '/'\n",
        "df_5 = df_4.copy()\n",
        "df_5[['Deck', 'Num', 'Side']] = df_5['Cabin'].str.split('/', expand=True)\n",
        "df_5.drop(columns = 'Cabin', inplace = True)\n",
        "df_5.head()"
      ]
    },
    {
      "cell_type": "markdown",
      "metadata": {
        "id": "yMTvN9S36u4e"
      },
      "source": [
        "#### Codificación de datos categóricos"
      ]
    },
    {
      "cell_type": "code",
      "execution_count": null,
      "metadata": {
        "outputId": "8c84345a-4937-428f-bc0f-e326cc9d64ed",
        "id": "JTJI29j_6u4e"
      },
      "outputs": [
        {
          "data": {
            "text/html": [
              "<div>\n",
              "<style scoped>\n",
              "    .dataframe tbody tr th:only-of-type {\n",
              "        vertical-align: middle;\n",
              "    }\n",
              "\n",
              "    .dataframe tbody tr th {\n",
              "        vertical-align: top;\n",
              "    }\n",
              "\n",
              "    .dataframe thead th {\n",
              "        text-align: right;\n",
              "    }\n",
              "</style>\n",
              "<table border=\"1\" class=\"dataframe\">\n",
              "  <thead>\n",
              "    <tr style=\"text-align: right;\">\n",
              "      <th></th>\n",
              "      <th>HomePlanet</th>\n",
              "      <th>CryoSleep</th>\n",
              "      <th>Destination</th>\n",
              "      <th>Age</th>\n",
              "      <th>VIP</th>\n",
              "      <th>RoomService</th>\n",
              "      <th>FoodCourt</th>\n",
              "      <th>ShoppingMall</th>\n",
              "      <th>Spa</th>\n",
              "      <th>VRDeck</th>\n",
              "      <th>Deck</th>\n",
              "      <th>Num</th>\n",
              "      <th>Side</th>\n",
              "    </tr>\n",
              "  </thead>\n",
              "  <tbody>\n",
              "    <tr>\n",
              "      <th>0</th>\n",
              "      <td>1</td>\n",
              "      <td>1</td>\n",
              "      <td>0</td>\n",
              "      <td>34.0</td>\n",
              "      <td>0</td>\n",
              "      <td>0.0</td>\n",
              "      <td>0.0</td>\n",
              "      <td>0.0</td>\n",
              "      <td>0.0</td>\n",
              "      <td>0.0</td>\n",
              "      <td>1</td>\n",
              "      <td>121</td>\n",
              "      <td>1</td>\n",
              "    </tr>\n",
              "    <tr>\n",
              "      <th>1</th>\n",
              "      <td>0</td>\n",
              "      <td>1</td>\n",
              "      <td>1</td>\n",
              "      <td>13.0</td>\n",
              "      <td>0</td>\n",
              "      <td>0.0</td>\n",
              "      <td>0.0</td>\n",
              "      <td>0.0</td>\n",
              "      <td>0.0</td>\n",
              "      <td>0.0</td>\n",
              "      <td>6</td>\n",
              "      <td>1489</td>\n",
              "      <td>1</td>\n",
              "    </tr>\n",
              "    <tr>\n",
              "      <th>2</th>\n",
              "      <td>0</td>\n",
              "      <td>0</td>\n",
              "      <td>2</td>\n",
              "      <td>44.0</td>\n",
              "      <td>0</td>\n",
              "      <td>22.0</td>\n",
              "      <td>1.0</td>\n",
              "      <td>0.0</td>\n",
              "      <td>864.0</td>\n",
              "      <td>0.0</td>\n",
              "      <td>6</td>\n",
              "      <td>776</td>\n",
              "      <td>0</td>\n",
              "    </tr>\n",
              "    <tr>\n",
              "      <th>3</th>\n",
              "      <td>0</td>\n",
              "      <td>0</td>\n",
              "      <td>1</td>\n",
              "      <td>63.0</td>\n",
              "      <td>0</td>\n",
              "      <td>0.0</td>\n",
              "      <td>0.0</td>\n",
              "      <td>80.0</td>\n",
              "      <td>0.0</td>\n",
              "      <td>2322.0</td>\n",
              "      <td>4</td>\n",
              "      <td>577</td>\n",
              "      <td>1</td>\n",
              "    </tr>\n",
              "    <tr>\n",
              "      <th>4</th>\n",
              "      <td>1</td>\n",
              "      <td>0</td>\n",
              "      <td>0</td>\n",
              "      <td>10.0</td>\n",
              "      <td>0</td>\n",
              "      <td>0.0</td>\n",
              "      <td>0.0</td>\n",
              "      <td>0.0</td>\n",
              "      <td>0.0</td>\n",
              "      <td>0.0</td>\n",
              "      <td>1</td>\n",
              "      <td>117</td>\n",
              "      <td>1</td>\n",
              "    </tr>\n",
              "  </tbody>\n",
              "</table>\n",
              "</div>"
            ],
            "text/plain": [
              "   HomePlanet  CryoSleep  Destination   Age  VIP  RoomService  FoodCourt  \\\n",
              "0           1          1            0  34.0    0          0.0        0.0   \n",
              "1           0          1            1  13.0    0          0.0        0.0   \n",
              "2           0          0            2  44.0    0         22.0        1.0   \n",
              "3           0          0            1  63.0    0          0.0        0.0   \n",
              "4           1          0            0  10.0    0          0.0        0.0   \n",
              "\n",
              "   ShoppingMall    Spa  VRDeck  Deck   Num  Side  \n",
              "0           0.0    0.0     0.0     1   121     1  \n",
              "1           0.0    0.0     0.0     6  1489     1  \n",
              "2           0.0  864.0     0.0     6   776     0  \n",
              "3          80.0    0.0  2322.0     4   577     1  \n",
              "4           0.0    0.0     0.0     1   117     1  "
            ]
          },
          "execution_count": 82,
          "metadata": {},
          "output_type": "execute_result"
        }
      ],
      "source": [
        "# codificamos los datos categoricos\n",
        "\n",
        "# definimos una variable que contiene los nombres de las columnas categóricas que queremos codificar\n",
        "categorical_cols_2 = ['HomePlanet', 'CryoSleep', 'VIP', 'Destination', 'Deck', 'Side']\n",
        "\n",
        "\n",
        "for col in categorical_cols_2:\n",
        "    df_5[col] = df_5[col].astype(str)\n",
        "    df_5[col] = LabelEncoder().fit_transform(df_5[col])\n",
        "\n",
        "df_5.head()"
      ]
    },
    {
      "cell_type": "code",
      "execution_count": null,
      "metadata": {
        "outputId": "c85def52-2e73-42a5-aa61-159c6bf9c3a2",
        "id": "obZDPXmJ6u4f"
      },
      "outputs": [
        {
          "data": {
            "text/plain": [
              "HomePlanet        int32\n",
              "CryoSleep         int32\n",
              "Destination       int32\n",
              "Age             float64\n",
              "VIP               int32\n",
              "RoomService     float64\n",
              "FoodCourt       float64\n",
              "ShoppingMall    float64\n",
              "Spa             float64\n",
              "VRDeck          float64\n",
              "Deck              int32\n",
              "Num              object\n",
              "Side              int32\n",
              "dtype: object"
            ]
          },
          "execution_count": 83,
          "metadata": {},
          "output_type": "execute_result"
        }
      ],
      "source": [
        "# todvía nos queda la columna Num como datos categóricos\n",
        "# qué hacemos?\n",
        "df_5.dtypes"
      ]
    },
    {
      "cell_type": "markdown",
      "metadata": {
        "id": "KaMo-UQC6u4f"
      },
      "source": [
        "## Escalado"
      ]
    },
    {
      "cell_type": "code",
      "execution_count": null,
      "metadata": {
        "outputId": "160a408d-aecd-453e-c7f4-8d13b93d64be",
        "id": "XQsH_qz-6u4f"
      },
      "outputs": [
        {
          "data": {
            "text/html": [
              "<div>\n",
              "<style scoped>\n",
              "    .dataframe tbody tr th:only-of-type {\n",
              "        vertical-align: middle;\n",
              "    }\n",
              "\n",
              "    .dataframe tbody tr th {\n",
              "        vertical-align: top;\n",
              "    }\n",
              "\n",
              "    .dataframe thead th {\n",
              "        text-align: right;\n",
              "    }\n",
              "</style>\n",
              "<table border=\"1\" class=\"dataframe\">\n",
              "  <thead>\n",
              "    <tr style=\"text-align: right;\">\n",
              "      <th></th>\n",
              "      <th>HomePlanet</th>\n",
              "      <th>CryoSleep</th>\n",
              "      <th>Destination</th>\n",
              "      <th>Age</th>\n",
              "      <th>VIP</th>\n",
              "      <th>RoomService</th>\n",
              "      <th>FoodCourt</th>\n",
              "      <th>ShoppingMall</th>\n",
              "      <th>Spa</th>\n",
              "      <th>VRDeck</th>\n",
              "      <th>Deck</th>\n",
              "      <th>Num</th>\n",
              "      <th>Side</th>\n",
              "    </tr>\n",
              "  </thead>\n",
              "  <tbody>\n",
              "    <tr>\n",
              "      <th>0</th>\n",
              "      <td>0.506494</td>\n",
              "      <td>1.447786</td>\n",
              "      <td>-1.873124</td>\n",
              "      <td>0.389487</td>\n",
              "      <td>-0.136877</td>\n",
              "      <td>-0.385490</td>\n",
              "      <td>-0.310498</td>\n",
              "      <td>-0.274152</td>\n",
              "      <td>-0.309805</td>\n",
              "      <td>-0.250575</td>\n",
              "      <td>-1.873506</td>\n",
              "      <td>-0.950682</td>\n",
              "      <td>0.935414</td>\n",
              "    </tr>\n",
              "    <tr>\n",
              "      <th>1</th>\n",
              "      <td>-0.767060</td>\n",
              "      <td>1.447786</td>\n",
              "      <td>-0.634813</td>\n",
              "      <td>-1.050400</td>\n",
              "      <td>-0.136877</td>\n",
              "      <td>-0.385490</td>\n",
              "      <td>-0.310498</td>\n",
              "      <td>-0.274152</td>\n",
              "      <td>-0.309805</td>\n",
              "      <td>-0.250575</td>\n",
              "      <td>0.939663</td>\n",
              "      <td>1.704346</td>\n",
              "      <td>0.935414</td>\n",
              "    </tr>\n",
              "    <tr>\n",
              "      <th>2</th>\n",
              "      <td>-0.767060</td>\n",
              "      <td>-0.690710</td>\n",
              "      <td>0.603499</td>\n",
              "      <td>1.075147</td>\n",
              "      <td>-0.136877</td>\n",
              "      <td>-0.344213</td>\n",
              "      <td>-0.309830</td>\n",
              "      <td>-0.274152</td>\n",
              "      <td>0.441916</td>\n",
              "      <td>-0.250575</td>\n",
              "      <td>0.939663</td>\n",
              "      <td>0.320548</td>\n",
              "      <td>-1.069045</td>\n",
              "    </tr>\n",
              "    <tr>\n",
              "      <th>3</th>\n",
              "      <td>-0.767060</td>\n",
              "      <td>-0.690710</td>\n",
              "      <td>-0.634813</td>\n",
              "      <td>2.377902</td>\n",
              "      <td>-0.136877</td>\n",
              "      <td>-0.385490</td>\n",
              "      <td>-0.310498</td>\n",
              "      <td>-0.152063</td>\n",
              "      <td>-0.309805</td>\n",
              "      <td>1.277745</td>\n",
              "      <td>-0.185604</td>\n",
              "      <td>-0.065673</td>\n",
              "      <td>0.935414</td>\n",
              "    </tr>\n",
              "    <tr>\n",
              "      <th>4</th>\n",
              "      <td>0.506494</td>\n",
              "      <td>-0.690710</td>\n",
              "      <td>-1.873124</td>\n",
              "      <td>-1.256098</td>\n",
              "      <td>-0.136877</td>\n",
              "      <td>-0.385490</td>\n",
              "      <td>-0.310498</td>\n",
              "      <td>-0.274152</td>\n",
              "      <td>-0.309805</td>\n",
              "      <td>-0.250575</td>\n",
              "      <td>-1.873506</td>\n",
              "      <td>-0.958446</td>\n",
              "      <td>0.935414</td>\n",
              "    </tr>\n",
              "    <tr>\n",
              "      <th>...</th>\n",
              "      <td>...</td>\n",
              "      <td>...</td>\n",
              "      <td>...</td>\n",
              "      <td>...</td>\n",
              "      <td>...</td>\n",
              "      <td>...</td>\n",
              "      <td>...</td>\n",
              "      <td>...</td>\n",
              "      <td>...</td>\n",
              "      <td>...</td>\n",
              "      <td>...</td>\n",
              "      <td>...</td>\n",
              "      <td>...</td>\n",
              "    </tr>\n",
              "    <tr>\n",
              "      <th>865</th>\n",
              "      <td>1.780047</td>\n",
              "      <td>-0.690710</td>\n",
              "      <td>0.603499</td>\n",
              "      <td>1.760807</td>\n",
              "      <td>-0.136877</td>\n",
              "      <td>0.882864</td>\n",
              "      <td>-0.310498</td>\n",
              "      <td>0.078379</td>\n",
              "      <td>0.019943</td>\n",
              "      <td>-0.250575</td>\n",
              "      <td>0.377029</td>\n",
              "      <td>1.166741</td>\n",
              "      <td>0.935414</td>\n",
              "    </tr>\n",
              "    <tr>\n",
              "      <th>866</th>\n",
              "      <td>-0.767060</td>\n",
              "      <td>1.447786</td>\n",
              "      <td>0.603499</td>\n",
              "      <td>2.035071</td>\n",
              "      <td>-0.136877</td>\n",
              "      <td>-0.385490</td>\n",
              "      <td>-0.310498</td>\n",
              "      <td>-0.274152</td>\n",
              "      <td>-0.309805</td>\n",
              "      <td>-0.250575</td>\n",
              "      <td>0.939663</td>\n",
              "      <td>0.652427</td>\n",
              "      <td>0.935414</td>\n",
              "    </tr>\n",
              "    <tr>\n",
              "      <th>867</th>\n",
              "      <td>-0.767060</td>\n",
              "      <td>1.447786</td>\n",
              "      <td>-0.634813</td>\n",
              "      <td>-0.707570</td>\n",
              "      <td>-0.136877</td>\n",
              "      <td>-0.385490</td>\n",
              "      <td>-0.310498</td>\n",
              "      <td>-0.274152</td>\n",
              "      <td>-0.309805</td>\n",
              "      <td>-0.250575</td>\n",
              "      <td>0.939663</td>\n",
              "      <td>1.042529</td>\n",
              "      <td>-1.069045</td>\n",
              "    </tr>\n",
              "    <tr>\n",
              "      <th>868</th>\n",
              "      <td>-0.767060</td>\n",
              "      <td>-0.690710</td>\n",
              "      <td>0.603499</td>\n",
              "      <td>-0.707570</td>\n",
              "      <td>-0.136877</td>\n",
              "      <td>1.049852</td>\n",
              "      <td>-0.310498</td>\n",
              "      <td>-0.254312</td>\n",
              "      <td>-0.309805</td>\n",
              "      <td>-0.250575</td>\n",
              "      <td>0.377029</td>\n",
              "      <td>-0.616863</td>\n",
              "      <td>0.935414</td>\n",
              "    </tr>\n",
              "    <tr>\n",
              "      <th>869</th>\n",
              "      <td>-0.767060</td>\n",
              "      <td>-0.690710</td>\n",
              "      <td>0.603499</td>\n",
              "      <td>-0.570438</td>\n",
              "      <td>-0.136877</td>\n",
              "      <td>-0.385490</td>\n",
              "      <td>-0.310498</td>\n",
              "      <td>-0.274152</td>\n",
              "      <td>0.301838</td>\n",
              "      <td>-0.250575</td>\n",
              "      <td>0.377029</td>\n",
              "      <td>0.869797</td>\n",
              "      <td>0.935414</td>\n",
              "    </tr>\n",
              "  </tbody>\n",
              "</table>\n",
              "<p>870 rows × 13 columns</p>\n",
              "</div>"
            ],
            "text/plain": [
              "     HomePlanet  CryoSleep  Destination       Age       VIP  RoomService  \\\n",
              "0      0.506494   1.447786    -1.873124  0.389487 -0.136877    -0.385490   \n",
              "1     -0.767060   1.447786    -0.634813 -1.050400 -0.136877    -0.385490   \n",
              "2     -0.767060  -0.690710     0.603499  1.075147 -0.136877    -0.344213   \n",
              "3     -0.767060  -0.690710    -0.634813  2.377902 -0.136877    -0.385490   \n",
              "4      0.506494  -0.690710    -1.873124 -1.256098 -0.136877    -0.385490   \n",
              "..          ...        ...          ...       ...       ...          ...   \n",
              "865    1.780047  -0.690710     0.603499  1.760807 -0.136877     0.882864   \n",
              "866   -0.767060   1.447786     0.603499  2.035071 -0.136877    -0.385490   \n",
              "867   -0.767060   1.447786    -0.634813 -0.707570 -0.136877    -0.385490   \n",
              "868   -0.767060  -0.690710     0.603499 -0.707570 -0.136877     1.049852   \n",
              "869   -0.767060  -0.690710     0.603499 -0.570438 -0.136877    -0.385490   \n",
              "\n",
              "     FoodCourt  ShoppingMall       Spa    VRDeck      Deck       Num      Side  \n",
              "0    -0.310498     -0.274152 -0.309805 -0.250575 -1.873506 -0.950682  0.935414  \n",
              "1    -0.310498     -0.274152 -0.309805 -0.250575  0.939663  1.704346  0.935414  \n",
              "2    -0.309830     -0.274152  0.441916 -0.250575  0.939663  0.320548 -1.069045  \n",
              "3    -0.310498     -0.152063 -0.309805  1.277745 -0.185604 -0.065673  0.935414  \n",
              "4    -0.310498     -0.274152 -0.309805 -0.250575 -1.873506 -0.958446  0.935414  \n",
              "..         ...           ...       ...       ...       ...       ...       ...  \n",
              "865  -0.310498      0.078379  0.019943 -0.250575  0.377029  1.166741  0.935414  \n",
              "866  -0.310498     -0.274152 -0.309805 -0.250575  0.939663  0.652427  0.935414  \n",
              "867  -0.310498     -0.274152 -0.309805 -0.250575  0.939663  1.042529 -1.069045  \n",
              "868  -0.310498     -0.254312 -0.309805 -0.250575  0.377029 -0.616863  0.935414  \n",
              "869  -0.310498     -0.274152  0.301838 -0.250575  0.377029  0.869797  0.935414  \n",
              "\n",
              "[870 rows x 13 columns]"
            ]
          },
          "execution_count": 84,
          "metadata": {},
          "output_type": "execute_result"
        }
      ],
      "source": [
        "# Escalamos los datos\n",
        "x_names = X.columns\n",
        "X_test = StandardScaler().fit_transform(df_5)\n",
        "\n",
        "X_test = pd.DataFrame(X_test, columns=x_names)\n",
        "X_test"
      ]
    },
    {
      "cell_type": "markdown",
      "metadata": {
        "id": "h2jHMukBw6a_"
      },
      "source": [
        "# Generamos la salida - datos de test"
      ]
    },
    {
      "cell_type": "code",
      "execution_count": null,
      "metadata": {
        "id": "ssLI6UHqw6a_",
        "outputId": "0b9fb963-950d-43f1-e7b5-05fc4d8fe5c5"
      },
      "outputs": [
        {
          "data": {
            "text/plain": [
              "array([1, 1, 0, 0, 1, 0, 0, 0, 0, 1, 1, 1, 1, 1, 0, 1, 0, 0, 0, 0, 1, 1,\n",
              "       0, 1, 0, 0, 0, 0, 0, 1, 0, 0, 0, 1, 0, 1, 0, 0, 1, 0, 0, 1, 0, 0,\n",
              "       1, 0, 1, 1, 0, 1, 1, 0, 0, 0, 0, 1, 0, 0, 1, 0, 1, 0, 1, 0, 0, 1,\n",
              "       0, 0, 1, 1, 1, 0, 0, 0, 0, 0, 0, 0, 1, 0, 1, 0, 1, 0, 1, 0, 1, 1,\n",
              "       1, 0, 1, 0, 0, 0, 0, 1, 1, 1, 0, 0, 0, 0, 0, 1, 0, 0, 1, 0, 1, 0,\n",
              "       0, 1, 0, 1, 0, 1, 1, 0, 1, 0, 0, 0, 0, 0, 0, 1, 1, 1, 0, 0, 0, 0,\n",
              "       0, 1, 0, 1, 0, 0, 1, 0, 0, 0, 0, 0, 1, 0, 1, 1, 0, 1, 1, 1, 1, 1,\n",
              "       1, 0, 0, 1, 1, 0, 1, 1, 1, 1, 1, 0, 0, 0, 1, 0, 0, 1, 1, 0, 0, 1,\n",
              "       1, 0, 0, 1, 1, 0, 0, 0, 1, 1, 0, 0, 0, 1, 0, 0, 0, 0, 0, 0, 0, 1,\n",
              "       1, 1, 0, 0, 1, 0, 1, 0, 0, 1, 0, 1, 1, 0, 0, 1, 0, 0, 1, 1, 1, 1,\n",
              "       0, 0, 1, 1, 0, 1, 0, 1, 1, 0, 0, 0, 0, 0, 0, 0, 0, 1, 0, 0, 1, 0,\n",
              "       1, 0, 0, 0, 1, 0, 0, 1, 0, 0, 0, 0, 0, 1, 1, 1, 1, 0, 0, 0, 0, 0,\n",
              "       0, 0, 0, 0, 0, 1, 0, 0, 1, 1, 0, 0, 0, 0, 1, 1, 1, 0, 1, 0, 0, 0,\n",
              "       0, 0, 0, 0, 1, 1, 1, 1, 0, 1, 0, 1, 0, 0, 1, 0, 1, 1, 0, 0, 0, 1,\n",
              "       0, 0, 1, 0, 1, 0, 0, 0, 1, 1, 0, 1, 0, 1, 0, 0, 1, 1, 0, 1, 1, 1,\n",
              "       0, 1, 1, 0, 1, 1, 1, 1, 1, 0, 0, 0, 0, 0, 1, 1, 0, 1, 0, 1, 1, 1,\n",
              "       1, 0, 0, 1, 1, 0, 0, 0, 0, 0, 1, 0, 0, 1, 1, 0, 0, 0, 1, 0, 1, 1,\n",
              "       1, 0, 1, 1, 0, 0, 0, 0, 1, 1, 0, 0, 1, 0, 1, 0, 1, 0, 0, 0, 0, 0,\n",
              "       0, 1, 1, 0, 0, 0, 0, 0, 1, 0, 1, 0, 0, 0, 0, 1, 0, 1, 1, 0, 0, 1,\n",
              "       0, 0, 0, 0, 1, 0, 0, 1, 1, 0, 0, 0, 0, 0, 1, 1, 0, 1, 0, 0, 1, 0,\n",
              "       0, 0, 0, 0, 1, 0, 0, 0, 0, 0, 0, 0, 1, 1, 1, 0, 1, 0, 1, 1, 1, 0,\n",
              "       0, 0, 0, 0, 1, 1, 0, 1, 0, 0, 1, 0, 1, 0, 0, 1, 1, 0, 1, 0, 0, 1,\n",
              "       1, 1, 0, 0, 1, 0, 1, 0, 0, 1, 1, 0, 0, 0, 1, 0, 0, 0, 1, 0, 1, 0,\n",
              "       1, 1, 0, 1, 1, 0, 1, 0, 0, 0, 0, 0, 0, 1, 1, 1, 0, 0, 0, 1, 1, 0,\n",
              "       0, 0, 0, 1, 1, 1, 0, 1, 1, 0, 0, 0, 1, 0, 0, 1, 0, 0, 1, 1, 0, 0,\n",
              "       0, 0, 1, 0, 0, 0, 1, 1, 0, 1, 0, 1, 0, 1, 1, 1, 0, 0, 0, 1, 1, 1,\n",
              "       0, 1, 0, 0, 0, 0, 0, 1, 1, 0, 0, 0, 1, 0, 0, 1, 1, 0, 1, 0, 1, 1,\n",
              "       1, 0, 0, 1, 0, 0, 0, 0, 0, 0, 1, 1, 1, 0, 0, 1, 0, 0, 1, 0, 1, 0,\n",
              "       0, 1, 1, 0, 0, 0, 0, 0, 0, 0, 0, 0, 1, 0, 1, 1, 0, 1, 0, 0, 0, 0,\n",
              "       0, 0, 0, 0, 1, 1, 0, 0, 0, 0, 0, 1, 0, 0, 1, 0, 0, 1, 0, 1, 0, 0,\n",
              "       0, 1, 0, 1, 1, 0, 1, 1, 0, 0, 0, 0, 1, 0, 0, 1, 0, 0, 1, 0, 0, 0,\n",
              "       1, 0, 0, 1, 0, 1, 0, 1, 0, 1, 0, 1, 0, 1, 1, 0, 1, 1, 0, 0, 0, 1,\n",
              "       1, 1, 1, 1, 0, 1, 0, 0, 1, 1, 1, 0, 1, 0, 0, 0, 0, 0, 1, 0, 1, 0,\n",
              "       0, 0, 0, 1, 0, 1, 1, 0, 1, 1, 1, 0, 0, 0, 0, 0, 1, 1, 1, 1, 0, 1,\n",
              "       1, 1, 1, 1, 1, 0, 1, 1, 0, 0, 1, 1, 0, 1, 0, 1, 0, 0, 0, 1, 1, 0,\n",
              "       0, 0, 0, 1, 1, 1, 0, 0, 1, 0, 0, 0, 0, 1, 0, 0, 1, 1, 0, 0, 1, 1,\n",
              "       0, 1, 1, 1, 1, 0, 0, 1, 0, 1, 0, 1, 0, 0, 1, 0, 0, 1, 1, 1, 1, 1,\n",
              "       0, 1, 0, 0, 0, 1, 1, 1, 0, 0, 1, 0, 0, 0, 1, 0, 1, 1, 1, 1, 1, 0,\n",
              "       0, 0, 0, 0, 0, 1, 0, 0, 1, 0, 0, 1, 1, 1, 0, 1, 0, 1, 1, 0, 0, 0,\n",
              "       1, 1, 0, 0, 1, 0, 0, 0, 1, 1, 0, 0])"
            ]
          },
          "execution_count": 86,
          "metadata": {},
          "output_type": "execute_result"
        }
      ],
      "source": [
        "test_id = PassengerId\n",
        "test_pred = final_model.predict(X_test)\n",
        "test_pred"
      ]
    },
    {
      "cell_type": "code",
      "execution_count": null,
      "metadata": {
        "id": "oPOMA73Sw6bA"
      },
      "outputs": [],
      "source": [
        "submission = pd.DataFrame(list(zip(test_id, test_pred)), columns=[\"PassengerId\", \"Transported\"])\n",
        "submission.to_csv(\"sample_submission.csv\", header=True, index=False)"
      ]
    },
    {
      "cell_type": "code",
      "execution_count": null,
      "metadata": {
        "id": "MVg3Omdfw6bA",
        "outputId": "85dd7be6-35ec-41cf-f307-0c5b83dc65a0"
      },
      "outputs": [
        {
          "data": {
            "text/html": [
              "<div>\n",
              "<style scoped>\n",
              "    .dataframe tbody tr th:only-of-type {\n",
              "        vertical-align: middle;\n",
              "    }\n",
              "\n",
              "    .dataframe tbody tr th {\n",
              "        vertical-align: top;\n",
              "    }\n",
              "\n",
              "    .dataframe thead th {\n",
              "        text-align: right;\n",
              "    }\n",
              "</style>\n",
              "<table border=\"1\" class=\"dataframe\">\n",
              "  <thead>\n",
              "    <tr style=\"text-align: right;\">\n",
              "      <th></th>\n",
              "      <th>PassengerId</th>\n",
              "      <th>Transported</th>\n",
              "    </tr>\n",
              "  </thead>\n",
              "  <tbody>\n",
              "    <tr>\n",
              "      <th>0</th>\n",
              "      <td>415</td>\n",
              "      <td>1</td>\n",
              "    </tr>\n",
              "    <tr>\n",
              "      <th>1</th>\n",
              "      <td>8663</td>\n",
              "      <td>1</td>\n",
              "    </tr>\n",
              "    <tr>\n",
              "      <th>2</th>\n",
              "      <td>4524</td>\n",
              "      <td>0</td>\n",
              "    </tr>\n",
              "    <tr>\n",
              "      <th>3</th>\n",
              "      <td>8246</td>\n",
              "      <td>0</td>\n",
              "    </tr>\n",
              "    <tr>\n",
              "      <th>4</th>\n",
              "      <td>2935</td>\n",
              "      <td>1</td>\n",
              "    </tr>\n",
              "    <tr>\n",
              "      <th>...</th>\n",
              "      <td>...</td>\n",
              "      <td>...</td>\n",
              "    </tr>\n",
              "    <tr>\n",
              "      <th>865</th>\n",
              "      <td>5996</td>\n",
              "      <td>0</td>\n",
              "    </tr>\n",
              "    <tr>\n",
              "      <th>866</th>\n",
              "      <td>5478</td>\n",
              "      <td>1</td>\n",
              "    </tr>\n",
              "    <tr>\n",
              "      <th>867</th>\n",
              "      <td>6760</td>\n",
              "      <td>1</td>\n",
              "    </tr>\n",
              "    <tr>\n",
              "      <th>868</th>\n",
              "      <td>1437</td>\n",
              "      <td>0</td>\n",
              "    </tr>\n",
              "    <tr>\n",
              "      <th>869</th>\n",
              "      <td>5171</td>\n",
              "      <td>0</td>\n",
              "    </tr>\n",
              "  </tbody>\n",
              "</table>\n",
              "<p>870 rows × 2 columns</p>\n",
              "</div>"
            ],
            "text/plain": [
              "     PassengerId  Transported\n",
              "0            415            1\n",
              "1           8663            1\n",
              "2           4524            0\n",
              "3           8246            0\n",
              "4           2935            1\n",
              "..           ...          ...\n",
              "865         5996            0\n",
              "866         5478            1\n",
              "867         6760            1\n",
              "868         1437            0\n",
              "869         5171            0\n",
              "\n",
              "[870 rows x 2 columns]"
            ]
          },
          "execution_count": 89,
          "metadata": {},
          "output_type": "execute_result"
        }
      ],
      "source": [
        "df_final = pd.read_csv(\"sample_submission.csv\")\n",
        "df_final"
      ]
    }
  ],
  "metadata": {
    "colab": {
      "name": "AprendizajeSupervisado.ipynb",
      "provenance": [],
      "collapsed_sections": [
        "R3hRvcMgw6at",
        "TfJgfAIj_pEW",
        "gU27snCJw6a9",
        "OuccfT9b6u4d",
        "KaMo-UQC6u4f",
        "h2jHMukBw6a_"
      ],
      "toc_visible": true
    },
    "kernelspec": {
      "display_name": "Python 3",
      "language": "python",
      "name": "python3"
    },
    "language_info": {
      "codemirror_mode": {
        "name": "ipython",
        "version": 3
      },
      "file_extension": ".py",
      "mimetype": "text/x-python",
      "name": "python",
      "nbconvert_exporter": "python",
      "pygments_lexer": "ipython3",
      "version": "3.8.6"
    },
    "vscode": {
      "interpreter": {
        "hash": "e6b65fc4380ac725e50a330b268a227bbdbe91bddfffbf68e5f7ce9848a2b8d5"
      }
    }
  },
  "nbformat": 4,
  "nbformat_minor": 0
}